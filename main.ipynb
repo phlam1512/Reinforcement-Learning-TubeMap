{
  "cells": [
    {
      "attachments": {},
      "cell_type": "markdown",
      "metadata": {
        "id": "TBCuNRbn-1Xw"
      },
      "source": [
        "<font size=6> **RQ: Finding Optimal Path for completing the \"Tube Challenge\" with Reinforcement Learning** </font>\n",
        "\n",
        "\n"
      ]
    },
    {
      "attachments": {},
      "cell_type": "markdown",
      "metadata": {
        "id": "32VpLaLA_G_1"
      },
      "source": [
        "# Abstract\n",
        "\n",
        "In this project, we trialled and compared the performance of multiple reinforcement learning algorithms on the task of finding an optimal path for completing the “Tube Challenge”, which involves travelling to all London Underground stations in the shortest time possible. We modelled the problem as a set-Travelling Salesman Problem and coded a graphical representation of the Tube environment from scratch. An epsilon greedy policy was designed such that epsilon greedy action is selected only at interchange stations. A multicomponent reward function was designed and aims to encourage travel to all stations with the least number of steps. Various combination of weightings of the components were trialled as hyper-parameters to find a decently good combination, and compared 5 models preliminarily across 5 runs of 10 episodes each with these settings. With the results for SARSA and Deep Q-Learning being the most promising, we trained these two models further by further tuning their hyper-parameters and running them for more episodes – 100 for Deep Q-Learning and 500 for SARSA. Comparing the two models at the 100th episode reveals SARSA performs better than Deep Q-Learning by far both in terms of number of steps taken for the optimal route and also computation time required. Further training SARSA to 500 episodes unfortunately yield no significant improvement in performance. The lowest number of steps for an episode in our SARSA model is 1647 steps, whereas the number of steps for a known route in the Tube challenge is 433 steps. "
      ]
    },
    {
      "attachments": {},
      "cell_type": "markdown",
      "metadata": {
        "id": "XQSg4nhw_WlD"
      },
      "source": [
        "# Table of Contents"
      ]
    },
    {
      "attachments": {},
      "cell_type": "markdown",
      "metadata": {
        "colab_type": "toc",
        "id": "XG8ujODEGWCD"
      },
      "source": [
        ">[Abstract](#scrollTo=32VpLaLA_G_1)\n",
        "\n",
        ">[Table of Contents](#scrollTo=XQSg4nhw_WlD)\n",
        "\n",
        ">[1. Introduction](#scrollTo=0m_LJJzS_LTX)\n",
        "\n",
        ">[2. Methodology](#scrollTo=cCM2B7st__Ua)\n",
        "\n",
        ">>[2.1 Dataset](#scrollTo=Sl-4HSf3FniW)\n",
        "\n",
        ">>[2.2 Reinforcement Learning Algorithms](#scrollTo=B4jXcBV9Fqal)\n",
        "\n",
        ">>>[2.2.1 First-Visit Monte Carlo (FVMC)](#scrollTo=B4jXcBV9Fqal)\n",
        "\n",
        ">>>[2.2.2 SARSA](#scrollTo=B4jXcBV9Fqal)\n",
        "\n",
        ">>>[2.2.3 Q-Learning](#scrollTo=B4jXcBV9Fqal)\n",
        "\n",
        ">>>[2.2.4 Neural Fitted Q-Iteration (NFQI)](#scrollTo=B4jXcBV9Fqal)\n",
        "\n",
        ">>>[2.2.5 Deep Q-Learning (DQL)](#scrollTo=B4jXcBV9Fqal)\n",
        "\n",
        ">[3. Implementation](#scrollTo=9qcOn1zQAPfn)\n",
        "\n",
        ">>[3.1 Setup](#scrollTo=EfASwI5LAFGw)\n",
        "\n",
        ">>[3.2 Defining the Environment](#scrollTo=wz-fjHA9A6_I)\n",
        "\n",
        ">>[3.3 Defining a Policy](#scrollTo=VEhwZdAeA_xV)\n",
        "\n",
        ">>[3.4 Defining Agents](#scrollTo=WLodW80eBPPT)\n",
        "\n",
        ">>>[3.4.1 Defining a General Agent Class](#scrollTo=uXsXV1j5BYES)\n",
        "\n",
        ">>>[3.4.2 First-Visit MC](#scrollTo=X_jP7PqyBNUp)\n",
        "\n",
        ">>>[3.4.3 SARSA](#scrollTo=HSGUeQeXBycd)\n",
        "\n",
        ">>>[3.4.4 Q-Learning](#scrollTo=2xA5UC1GBdOF)\n",
        "\n",
        ">>>[3.4.5 Neural Fitted Q Iteration](#scrollTo=w97wbGT1BLvX)\n",
        "\n",
        ">>>[3.4.6 Deep Q Learning](#scrollTo=ZUk0xYYDB1QW)\n",
        "\n",
        ">>[3.5 Initial Training Loop for all Agents](#scrollTo=wtkoN7lnCcY1)\n",
        "\n",
        ">>>[3.5.1 Code](#scrollTo=971jiI3cowh6)\n",
        "\n",
        ">>>[3.5.2 Initial Plots and Results](#scrollTo=3EKuQ_RvoWDu)\n",
        "\n",
        ">>[3.6 Training for SARSA and Deep Q-Learning](#scrollTo=9IM_Qq-gDyjq)\n",
        "\n",
        ">>>[3.6.1 SARSA](#scrollTo=mWKxAGvHbjyy)\n",
        "\n",
        ">>>>[3.6.1.1 Hyperparameter Tuning](#scrollTo=T33xw7PhbvcB)\n",
        "\n",
        ">>>>>[Tuning for alpha](#scrollTo=WuTlwJKdfZGf)\n",
        "\n",
        ">>>>>[Tuning for epsilon decay rate](#scrollTo=YtY8NQgAfsUa)\n",
        "\n",
        ">>>>[3.6.1.2 Model at 100 episodes](#scrollTo=feusz4p6b1qb)\n",
        "\n",
        ">>>>[3.6.1.3 Model at 500 episodes](#scrollTo=vaH98jilb9GR)\n",
        "\n",
        ">>>[3.6.2 Deep Q-Learning](#scrollTo=MMdcEZ53b_kB)\n",
        "\n",
        ">>>>[3.6.2.1 Hyperparameter Tuning](#scrollTo=o2zEzgd4cGUT)\n",
        "\n",
        ">>>>[3.6.2.2 Model at 100 episodes](#scrollTo=nDFoYwOycCa3)\n",
        "\n",
        ">[4. Final Results and Discussion](#scrollTo=L7zPlXrqD5zr)\n",
        "\n",
        ">>[4.1 Comparing SARSA and Deep Q-Learning at 100 Episodes](#scrollTo=q3CFSLVOpzZ_)\n",
        "\n",
        ">>[4.2 SARSA at 500 Episodes](#scrollTo=C1vlnEDsqLHa)\n",
        "\n",
        ">>[4.3 Visualising Final Route](#scrollTo=3e6-uj0xqNid)\n",
        "\n",
        ">>>[4.3.1 Tube Route Animation Function](#scrollTo=jXmPZdFkEP1F)\n",
        "\n",
        ">>>[4.3.2 Visualisations](#scrollTo=as_buqnhyDRh)\n",
        "\n",
        ">[5. Conclusion](#scrollTo=GsrV3D76Al2V)\n",
        "\n",
        ">[6. References](#scrollTo=8EH4F26tAnbA)\n",
        "\n"
      ]
    },
    {
      "attachments": {},
      "cell_type": "markdown",
      "metadata": {
        "id": "0m_LJJzS_LTX"
      },
      "source": [
        "# 1.&nbsp;Introduction\n",
        "\n",
        "The \"Tube Challenge\" is a Guinness World Record recognised competition to travel to all London Underground (Tube) stations in the shortest time possible. An underground station is considered visited if one arrives at, depart from or passes through the station on at least one of its lines. By the official rules of the challenge, it is acceptable to connect between stations on foot or by using other forms of public transport (The Telegraph, 2016). The record for the fastest completion is held by Andi James (Finland) and Steve Wilson (UK) who completed the challenge in 15 hours, 45 minutes and 38 seconds on 21st May 2015 and travelled across 270 stations, though as of September 2021 the Northern line extension has added two more stations, making the total number of tube stations currently 272 (Guinness World Records, 2016).\n",
        "\n",
        "The goal of our project is to apply reinforcement learning algorithms to find a hypothetically optimal route for completing the tube challenge. We thought it would be interesting to find out if there is a more optimal route than the one taken by previous record-holders, given the relatively complex nature of the London underground system. We also hope to explore the suitability of applying various reinforcement learning algorithms in solving a shortest path problem. \n",
        "\n",
        "The problem of finding a shortest route through all tube challenges can be modelled as a Set-Travelling Salesman Problem (Set-TSP) (as known as the generalised TSP). \n",
        "\n",
        "The original TSP asks the following question: given a set of nodes and the distances between every pair of nodes, what is the shortest possible route that visits every node exactly once and returns to the origin node?\" The set-TSP generalises the TSP, whereby the agent is instead required to visit one node from each disjoint subset of nodes of the graph.\n",
        "\n",
        "In our context, we consider a graphical representation of the system, where the stations are the nodes and the connections between the stations are the edges. It is similar to the ordinary TSP (which finds the shortest possible route through a list of cities exactly once and returns to the origin city), except:\n",
        "- The agent doesn't need to return to the origin, as this is not required by the \"Tube Challenge\".\n",
        "- The agent can visit the same node multiple times. This is because it might be impossible to visit every tube station but also only visit each station exactly once;\n",
        "- The network does not form a complete graph, i.e., not every node is connected to every other node.\n",
        "\n",
        "Solving this problem is non-trivial due to the complexity of the graph. It is well known that the TSP is a NP-hard problem, where it is difficult to find a solution, but it is easy and quick to verify the correctness of a given solution.\n",
        "\n",
        "A naive solution that involves trying all possible permutations, which is definitely impractical for our graph with 272 stations and 1,927 of edges. Another solution would be to apply dynamic programming as we have a known and fixed graph. However, this would involve solving 1,927 of Bellman equations to find the state value function at every node, which is again computationally impractical. \n",
        "\n",
        "Some challengers for the Tube Challenge have documented their journey and experience online. One of these challengers created a blog page which outlines how they attempted to find the optimal route computationally, which involves simplification to the network such as removing some intermediate stations (Gawley, 2011). We took inspiration from their consideration of the irrelevance of some intermediate stations but took a more rigorous approach than their relatively heuristics-based approach. \n",
        "\n",
        "We also reviewed literature more generally for solving routing problems with reinforcement learning algorithms, which inspired the algorithms we chose to trial. Zheng et al. (2021) proposes a variable strategy reinforced approach which combines Q-learning, SARSA and Monte Carlo with a TSP-algorithm called Lin-Kernighan-Helsgaun (LKH) with promising results on up to 85,600 cities. Ottoni et al. (2022) evaluates the performance of Q-learning and SARSA on traveling salesman problem with refuelling. Several literature applied deep Q-learning methods, such as Gambardella & Dorigo (1995) with Ant-Q, which combines distributed algorithm ant system with Q-learning, for improved and faster performance. \n"
      ]
    },
    {
      "attachments": {},
      "cell_type": "markdown",
      "metadata": {
        "id": "cCM2B7st__Ua"
      },
      "source": [
        "# 2.&nbsp;Methodology"
      ]
    },
    {
      "attachments": {},
      "cell_type": "markdown",
      "metadata": {
        "id": "Sl-4HSf3FniW"
      },
      "source": [
        "## 2.1 Dataset\n",
        "\n",
        "To create the environment for our project, we adapted the datasets that describe the London Underground System from the *tubemaps* GitHub repository (Nicola, 2017), which is a NodeJs library for handling such data. We use these datasets to build up a graphical representation of the system, where the stations are the nodes and the connections between the stations are the edges. \n",
        "\n",
        "The initial datasets consist of three files: \n",
        "1. lines.csv: 11 line names and corresponding `line id`\n",
        "2. stations.csv: 272 station names and corresponding `station id`\n",
        "3. dist.csv: 406 pairs of connected stations and the line connecting the two\n",
        "\n",
        "We made multiple additions and changes to stations.csv and dist.csv to set up the environment for our purpose and/or help improve the performance of the model. These are: \n",
        "1. Adding tube travel distance and updating tube travel time for all pairs of connected stations according to updated information from the Transport for London (TfL) Working Timetables (WTT) website. A web scrape was performed for the working timetables of all lines to extract the information. In the working timetables, distance was rounded to the closest 10 metres and time was rounded to the closest 5 seconds. \n",
        " \n",
        "2. Adding platforms to each station. Platforms were added for each line and each direction at every station as a sub-station. For example, Holborn (id = 113) has four sub-stations: Holborn (ce) (id = 113.1), Holborn (cw) (id = 113.2), Holborn (pe) (id = 113.3) and Holborn (pw) (id = 113.4). 'cw' refers to the Central line Westbound platform, and 'pe' refers to the Piccadilly line Eastbound platform. As long as at least one station with id that starts with 113 is visited, then we consider the Holborn station to be visited by the agent. \n",
        "\n",
        "3. Adding line-specific edges. Instead of having edges that connect directly from station to station, the edges now connect at the platform level to correspond to the addition of platforms made. For example, the edge between Holborn and Chancery Lane is now the edge between Holborn (ce) and Chancery Lane (ce). The edges are directional such that we would have a separate edge for Chancery Lane (cw) and Holborn (cw). Furthermore, edges were added from every sub-station to station and vice versa. Hence, we have 12 edges which starts from either the station Holborn or a substation in Holborn: \n",
        "  - Holborn & Holborn (ce)\n",
        "  - Holborn (ce) & Holborn\n",
        "  - Holborn & Holborn (cw)\n",
        "  - Holborn (cw) & Holborn\n",
        "  - Holborn & Holborn (pe)\n",
        "  - Holborn (pe) & Holborn\n",
        "  - Holborn & Holborn (pw)\n",
        "  - Holborn (pw) & Holborn\n",
        "  - Holborn (ce) & Chancery Lane (ce)\n",
        "  - Holborn (cw) & Tottenham Court Road (cw)\n",
        "  - Holborn (pe) & Russell Square (pe)\n",
        "  - Holborn (pw) & Covent Garden (pw)\n",
        "  \n",
        "    When there are sections of the tube where multiple lines operate on the same platform, the edges are lumped together. For example, the edge between Euston Square (rhme) and Kings Cross St Pancras (rhme), as on this section the Circle, Hammersmith & City and Metropolitan lines share the same platform and tracks.\n",
        "\n",
        "4. Adding known walking distance for edges between stations. These edges are either indicated as dotted lines on the Tube map, or they are part of an \"optimal\" route from an attempt in 2009 (O'Brien and Cheshire, 2015), and were added such that the agent can consider whether there are benefits from taking these routes. The walking travelling time and distances were taken from Google Maps data. We did not add all possible walking edges between all stations as this would add $272 \\times 271 = 73,712$ edges and a lot of complexity to the problem when almost all of these edges are not going to be part of the optimal solution. We also did not add public transport route for similar reasons. \n",
        "\n",
        "5. Flagging for starting stations. Terminus stations of all the tube lines were identified and flagged as starting stations, such that the agents would only choose a starting station within this set of starting stations, as it is always more optimal to start from one of the terminus stations. This saves computational cost from getting our agent to learn this known relationship. \n",
        "\n",
        "6. Flagging for two-dimensional (2d) stations. \"Two-dimensional\" refers to stations where it is only possible to travel in two directions from the station through Tube. They are typically stations that are in the middle of a line and are not interchange stations nor stations that are connected to walking edges. When an agent is in one of these stations, it is always more optimal to continue going in the direction they arrived at the station in, as the only other option would be to go back to a station they have already been to. This flag enabled us to code this behaviour into our agent's policy and again saves computational cost from getting our agent to learn this known relationship."
      ]
    },
    {
      "attachments": {},
      "cell_type": "markdown",
      "metadata": {
        "id": "B4jXcBV9Fqal"
      },
      "source": [
        "## 2.2 Reinforcement Learning Algorithms\n",
        "\n",
        "We first trialled multiple algorithms preliminarily as we had conflicting hypotheses about what algorithms would perform better. It was possible that off-policy methods which looks at the entire taken path after an episode could perform better as it examines a complete (or close to complete) path as a whole, but on-policy methods with updates after every step could learn an optimal path more quickly. Furthermore, there are merits both to learning through updating Q-values first or updating the policy directly. \n",
        "\n",
        "We initially trialled the First-Visit Monte Carlo (FVMC) algorithm, which is an on-policy control algorithm that returns an optimal policy. We hoped to see if a relatively straightforward Monte Carlo method would suffice for finding an optimal solution. \n",
        "\n",
        "Then, we decided to try SARSA, an on-policy temporal difference method for policy optimisation which estimates the state-action value function (Q-function) after every time step in an episode. \n",
        "\n",
        "Finally, we explored Q-learning and trialled multiple variants of Q-learning to explore whether off-policy learning may perform better in Q-function estimations. We trialled 3 Q-learning algorithms in total, which include the simple Q-learning, Neural Fitted Q-Iteration (NFQI) and Deep Q-Learning (DQL). \n",
        "\n",
        "For all policies, we consider the current state $s_t$ as the station which the agent (following a particular algorithm) is at during step $t$. At every $s_t$, the agent can choose to go to several other stations, thus each of these stations are an action $a_t$. Thus, $s_{t+1} = a_{t}'$ for action $a_t'$ taken by the agent. We only consider state-action pairs where $a_t$ is a feasible action from $s_t$, such that $s_t$ and $a_t$ are connected by at least one edge. \n",
        "\n",
        "The following sub-sections detail the 5 algorithms we used in further detail. \n",
        "\n",
        "### 2.2.1 First-Visit Monte Carlo (FVMC)\n",
        "\n",
        "The FVMC algorithm uses Monte Carlo estimation to learn an optimal policy. It updates Q-values for state-action pairs with the averaged return for the first occurrence of that state-action pair. Then, it updates the policy for an action in each state with the Q-values with an epsilon greedy policy. It is an on-policy algorithm since the policy is being continuously updated during the episode. \n",
        "\n",
        "We chose to use the First-Visit Monte Carlo instead of Every-Visit Monte Carlo as we thought that the return from the first visit to a station is likely more informative than that of subsequent visits, as subsequent visits occur to enable first-time visits to other stations. An epsilon greedy exploration policy is employed to ensure continual exploration of all reasonable actions. \n",
        "\n",
        "For each first observed state-action pair in each episode, the Q-value is updated as follows: \n",
        "\n",
        "$$Q(s_t, a_t) ← \\text{average}(\\text{Returns}(s_t, a_t))$$\n",
        "\n",
        "where $\\text{Returns} (s_t, a_t)$ is a measure of cumulative return over all first visits to this state-action pair across all episodes up to that point. The optimal action at $s_t$ according to the Q-table is selected with $A^* = \\arg\\max_{a} Q(s_t, a)$. Finally, the policy is updated according to the following epsilon-greedy based rule, such that for all $a \\in \\mathcal{A}(s_t)$: \n",
        "\n",
        "$$ \n",
        "\\pi(a, s_t) ←\n",
        "\\begin{cases}\n",
        "1 - \\varepsilon + \\varepsilon / |\\mathcal{A}(s_t)| &\\text{if } a = A^* \\\\\n",
        "\\varepsilon / |\\mathcal{A}(s_t)| &\\text{otherwise}\n",
        "\\end{cases}\n",
        "$$\n",
        "\n",
        "where $|\\mathcal{A}(s_t)|$ is the number of possible actions from $s_t$. \n",
        "\n",
        "The pseudo-code for the algorithm is as below (Sutton and Barto, 2018): \n",
        "\n",
        "![images/fvmc.png](images/fvmc.png)\n",
        "\n",
        "### 2.2.2 SARSA\n",
        "\n",
        "The SARSA algorithm updates the Q-values for every state and action pair incrementally with the following equation for non-terminal state $s_{t+1}$: \n",
        "\n",
        "$$Q(s_t, a_t) ← Q(s_t, a_t) + \\alpha[r_t + \\gamma Q(s_{t+1}, a_{t+1}) - Q(s_t, a_t)]$$\n",
        "\n",
        "and returns $Q(s_{t+1}, a_{t+1}) = 0$ for terminal state $s_{t+1}$. \n",
        "\n",
        "The update is done for every step in every episode and is thus an on-policy algorithm. \n",
        "\n",
        "The pseudo-code for the algorithm is as below, taken from Sutton and Barto: \n",
        "\n",
        "![images/sarsa.png](images/sarsa.png)\n",
        "\n",
        "### 2.2.3 Q-Learning \n",
        "\n",
        "The Q-learning algorithm updates the Q-values for every state and action pair in the episode after the episode has terminated. When updating the Q-values, the agent follows a greedy policy where the action that yields the maximum Q-value is selected.\n",
        "\n",
        "$Q(s_t, a_t) ← Q(s_t, a_t) + \\alpha[r_t + \\gamma \\max_a Q(s_{t+1}, a) - Q(s_t, a_t)]$\n",
        "\n",
        "The pseudo-code for the algorithm is as below, taken from Sutton and Barto: \n",
        "\n",
        "![images/qlearning.png](images/qlearning.png)\n",
        "\n",
        "### 2.2.4 Neural Fitted Q-Iteration (NFQI)\n",
        "\n",
        "Similar to the Q-learning algorithm, the neural fitted Q iteration algorithm updates the Q-values are updated according to a greedy policy. However, we approximate the Q value as a linear function. In this setting, we represent the Q-function using a neural network.\n",
        "\n",
        "$\\hat{Q}(s_t, a_t) ← \\arg\\min_Q \\sum_{t} [r_t + \\gamma \\max_a \\tilde{Q}(s_{t+1}, a) - Q(s_t, a_t)]^2$\n",
        "\n",
        "Then we update the Q-function:\n",
        "$\\tilde{Q} \\leftarrow \\hat{Q}$\n",
        "\n",
        "The pseudo-code for the algorithm is as below, taken from the lecture slides:\n",
        "\n",
        "![images/nfqi.png](images/nfqi.png)\n",
        "\n",
        "### 2.2.5 Deep Q-Learning (DQL)\n",
        "\n",
        "The Deep Q-Learning algorithm is similar to NFQI, except that we now use two neural networks to approximate the Q-Network: a local network and a target network. \n",
        "\n",
        "For every $t$ steps we sample a random minibatch of transitions from the replay memory $\\mathcal{M}$, and perform stochastic gradient descent (SGD) to update the local network. \n",
        "\n",
        "$\\theta \\leftarrow \\theta - \\alpha_t \\cdot \\frac{1}{n} \\sum_{i\\in[n]} [r_i + \\gamma \\max_a Q_{\\theta^*}(s_i', a) - Q_\\theta (s_i, a_i) ] \\cdot \\nabla_\\theta (s_i, a_i)$\n",
        "\n",
        "A soft update is then applied to the target network:\n",
        "\n",
        "$\\theta^* \\leftarrow \\lambda \\theta + (1-\\lambda) \\theta^*$\n",
        "\n",
        "where $\\theta$ represent the weights of the local network, $\\theta^*$ represent the weights of the target network and $\\lambda$ is a hyperparameter.\n",
        "\n",
        "The pseudo-code for the algorithm is as below, taken a screenshot embedded in the lecture slides:\n",
        "\n",
        "![images/dql.png](images/dql.png)\n",
        "\n"
      ]
    },
    {
      "attachments": {},
      "cell_type": "markdown",
      "metadata": {
        "id": "9qcOn1zQAPfn"
      },
      "source": [
        "# 3.&nbsp;Implementation"
      ]
    },
    {
      "attachments": {},
      "cell_type": "markdown",
      "metadata": {
        "id": "EfASwI5LAFGw"
      },
      "source": [
        "## 3.1 Setup"
      ]
    },
    {
      "cell_type": "code",
      "execution_count": 122,
      "metadata": {
        "id": "FPsPI_lFU2fM"
      },
      "outputs": [],
      "source": [
        "# for local\n",
        "dist_csv = \"dataset/new/dist2.csv\"\n",
        "lines_csv = \"dataset/new/lines2.csv\"\n",
        "stations_csv = \"dataset/new/stations3.csv\""
      ]
    },
    {
      "cell_type": "code",
      "execution_count": 123,
      "metadata": {
        "id": "QSxmr518OYj_"
      },
      "outputs": [],
      "source": [
        "from collections import defaultdict, deque, namedtuple\n",
        "from datetime import datetime\n",
        "from IPython.display import clear_output, Video\n",
        "from matplotlib import pyplot as plt\n",
        "from matplotlib import rc\n",
        "from matplotlib.animation import FFMpegWriter, FuncAnimation\n",
        "import numpy as np\n",
        "import pandas as pd\n",
        "import pickle\n",
        "import random\n",
        "import torch\n",
        "from torch import nn, optim\n",
        "from torch.nn import functional as F\n",
        "from tqdm.notebook import tqdm"
      ]
    },
    {
      "attachments": {},
      "cell_type": "markdown",
      "metadata": {
        "id": "wz-fjHA9A6_I"
      },
      "source": [
        "## 3.2 Defining the Environment\n"
      ]
    },
    {
      "attachments": {},
      "cell_type": "markdown",
      "metadata": {
        "id": "AADXRrB3BO82"
      },
      "source": [
        "Using the dataset, we define a custom `TubeMap` class for the agent to interact within.\n",
        "\n",
        "In this `TubeMap` class, we use a state-dependent action space, where for a given state, there is a selected number of actions available. Actions are given as the id of the next state. At each step, the agent queries the possible actions available for the current state. \n",
        "\n",
        "The state is represented by the id of the node, as well as (optional) information that may be given to agent as additional information in order to make a more informed decision when taking an action, including:\n",
        "- The direction, i.e. if the agent is travelling eastbound, it is likely that the agent would want to continue to travel eastbound;\n",
        "- Whether the station is two-dimensional\n",
        "\n",
        "The episode is terminated when one of the following conditions are true:\n",
        "- The agent has visited all 272 stations (at least one node from each station; it is not necessary to have visited every node, as a station may be served by multiple lines, but it is only necessary to visit the station once); or\n",
        "- The episode step limit $T$ was reached.\n",
        "\n",
        "The immediate reward given after taking some action is given as follows:\n",
        "$$\n",
        "R(s,a,t) = - d(s,a) - \\beta \\frac{t}{\\sum_a N(a)} - \\eta N(a)  + B (T-t) \\times \\mathbf{1}\\{\\text{is terminal}\\}\n",
        "$$\n",
        "where:\n",
        "- $d(s,a)$ is a distance metric between $s$ and $a$, possible options are \"physical distance\" and \"travel time\"; this is not symmetric.\n",
        "- $N(a)$ is the number of times (including the station to be visited next) the agent has visited any node belonging to station $a$;\n",
        "- $\\sum_a N(a)$ is the number of stations (including the station to be visited next) the agent has visited so far\n",
        "- $t$ is the number of steps taken since tbe beginning of the episode;\n",
        "- $T$ is the limit to the number of steps before the episode is terminated, default 20001;\n",
        "- $B$ is the reward bonus for successfully visiting all 272 stations, default $B=0$;\n",
        "- $\\beta$ and $\\eta$ are hyperparameters, default $\\beta=1.0, \\eta=1.0$.\n",
        "\n",
        "The first term measures the distance between $s$ and $a$. The second term encourages the agent to minimise the number of steps taken, since the more steps taken the more negative the reward will be. The third term encourages the agent to explore previously unvisited stations, as repeatedly visiting the same station will yield a more negative reward. The final term rewards the agent for successfully completing the task (visiting all 272 stations), and is proportional to the number of steps remaining from the episode step limit, so the agent is encouraged to complete the task with as few steps as possible.\n",
        "\n",
        "The table of Q-values is also stored in this environment, and can be initialised with any arbitrary value. By default, it is initialised to be $0$ for all $Q(s,a)$."
      ]
    },
    {
      "cell_type": "code",
      "execution_count": null,
      "metadata": {
        "id": "8YNiREzkA_W3"
      },
      "outputs": [],
      "source": [
        "class TubeMap:\n",
        "  def __init__(self, \n",
        "               dist_table, \n",
        "               station_table, \n",
        "               initial_state=0, \n",
        "               metric=\"time\",\n",
        "               q_table=True, \n",
        "               q_table_initialiser=0.0,\n",
        "               count_visits=True,\n",
        "               beta=1.0, \n",
        "               eta=1.0, \n",
        "               complete_bonus=0,\n",
        "               steps_limit=20001,\n",
        "               *args, **kwargs):\n",
        "    assert metric in [\"dist\", \"time\"], \"Invalid selection of metric.\"\n",
        "    self.metric = metric\n",
        "    self.initial_state = initial_state\n",
        "    self.state = initial_state\n",
        "    self.reward = 0.0\n",
        "    self.not_yet_visited = set(np.arange(1,273,1.0))\n",
        "    self.num_visited = 1\n",
        "    self.is_terminal = False\n",
        "    self.dist_table = pd.read_csv(dist_table)\n",
        "    self.station_table = pd.read_csv(station_table)\n",
        "    self.neighbours = self.get_neighbours(self.state)\n",
        "    self.steps = 0\n",
        "    self.beta = beta\n",
        "    self.eta = eta\n",
        "    self.count_visits = count_visits\n",
        "    self.complete_bouns = complete_bonus\n",
        "    self.steps_limit = steps_limit\n",
        "    if q_table:\n",
        "      self.q_table_initialiser = q_table_initialiser\n",
        "      self.q_table = self.initialise_q_table()\n",
        "    if self.count_visits:\n",
        "      self.visit_counter = {n:0 for n in np.arange(1,273,1.0)}\n",
        "\n",
        "  def step(self, action):\n",
        "    self.steps += 1\n",
        "    self.update_visited(action)\n",
        "    self.reward = (-1.0 * (self.neighbours[self.neighbours[\"id2\"] == action][self.metric].values[0]) \n",
        "                - (self.beta * self.steps / self.num_visited) \n",
        "                - (self.eta * self.visit_counter[np.trunc(action)]) \n",
        "                + ((self.steps_limit - self.steps) * self.complete_bouns * self.is_terminal))\n",
        "\n",
        "    self.state = action\n",
        "    self.neighbours = self.get_neighbours(action)\n",
        "    return self.state, self.reward, self.is_terminal\n",
        "  \n",
        "  def get_neighbours(self, state):\n",
        "    return self.dist_table[self.dist_table[\"id1\"] == state]\n",
        "\n",
        "  def get_previous_neighbours(self, state):\n",
        "    return self.dist_table[self.dist_table[\"id2\"] == state]\n",
        "\n",
        "  def get_available_actions(self, state):\n",
        "    return list(self.dist_table[self.dist_table[\"id1\"] == state][\"id2\"])\n",
        "\n",
        "  def update_visited(self, state):\n",
        "    visited_station = np.trunc(state)\n",
        "    self.not_yet_visited.discard(visited_station)\n",
        "    self.is_terminal = bool(not self.not_yet_visited)\n",
        "    self.num_visited = 272 - len(self.not_yet_visited)\n",
        "    if self.count_visits:\n",
        "      self.visit_counter[visited_station] += 1\n",
        "\n",
        "  def initialise_q_table(self):\n",
        "    if self.q_table_initialiser != 0:\n",
        "      q_table = self.dist_table[[\"id1\", \"id2\", \"station1\", \"station2\", \"direction1\", \"direction2\", \"flag\", \"2d\", self.metric]].copy()\n",
        "      q_table = q_table.rename(columns={self.metric: \"q\"})\n",
        "      q_table[\"q\"] = q_table[\"q\"].apply(lambda x: -1.0 * x)\n",
        "    else:\n",
        "      q_table = self.dist_table[[\"id1\", \"id2\", \"station1\", \"station2\", \"direction1\", \"direction2\", \"flag\", \"2d\"]].copy()\n",
        "      q_table[\"q\"] = self.q_table_initialiser\n",
        "    return q_table\n",
        "\n",
        "  def get_q_table_neighbours(self, state):\n",
        "    return self.q_table[self.q_table[\"id1\"] == state]\n",
        "  \n",
        "  def get_station_name(self, state):\n",
        "    return self.station_table[self.station_table[\"id\"]==state][\"station\"].values[0]\n",
        "\n",
        "  def reset(self):\n",
        "    self.state = self.initial_state\n",
        "    self.reward = 0.0\n",
        "    self.num_visited = 1\n",
        "    self.steps = 0\n",
        "    self.is_terminal = False\n",
        "    self.not_yet_visited = set(np.arange(1,273,1.0))\n",
        "    self.neighbours = self.get_neighbours(self.state)\n",
        "    if self.count_visits:\n",
        "      self.visit_counter = {n:0 for n in np.arange(1,273,1.0)}\n",
        "    return self.state"
      ]
    },
    {
      "attachments": {},
      "cell_type": "markdown",
      "metadata": {
        "id": "VEhwZdAeA_xV"
      },
      "source": [
        "## 3.3 Defining a Policy"
      ]
    },
    {
      "attachments": {},
      "cell_type": "markdown",
      "metadata": {
        "id": "joML2yuzBYAM"
      },
      "source": [
        "We define a variant of $\\varepsilon$-greedy policy with a decaying $ɛ$ that is biased.\n",
        "\n",
        "There are two possible decay strategies available:\n",
        "- `pow`: $ɛ \\leftarrow \\max\\{ɛ_\\text{min}, ɛ_\\text{max}\\mu^t \\}$;\n",
        "- `exp`: $ɛ \\leftarrow \\max\\{ɛ_\\text{min}, ɛ_\\text{max}e^{-\\mu t} \\}$\n",
        "\n",
        "where $\\mu$ is the decay rate and $t$ is the number of steps.\n",
        "\n",
        "It is also possible to only begin decay after the agent has successfully visited all stations in a previous episode, since the episode will terminate after a fixed number of steps regardless of whether the agent has successfully visited all stations.\n",
        "\n",
        "When selecting an action, if a station is \"2d\", we favour selecting the action that has the same \"direction\" as the current state. This is controlled by the hyperparameter $\\tau$.\n",
        "\n",
        "Furthermore, for FVMC, the agent will select an action according to $\\pi(\\cdot)$"
      ]
    },
    {
      "cell_type": "code",
      "execution_count": null,
      "metadata": {
        "id": "W8jX2v-YMr9Q"
      },
      "outputs": [],
      "source": [
        "class EpsilonGreedyPolicy:\n",
        "  def __init__(self, \n",
        "               max_epsilon=1.0, \n",
        "               min_epsilon=0.00001, \n",
        "               decay_rate=0.999, \n",
        "               strategy=\"pow\", \n",
        "               smart_decay=False):\n",
        "    self.steps = 0\n",
        "    self.min_epsilon = min_epsilon\n",
        "    self.max_epsilon = max_epsilon\n",
        "    self.strategy = strategy\n",
        "    if smart_decay:\n",
        "      self.decay_rate = 1.0\n",
        "      self.smart_decay_rate = decay_rate\n",
        "    else:\n",
        "      self.decay_rate = decay_rate\n",
        "\n",
        "  def get_epsilon(self, delta):\n",
        "    # delta represent whether the agent has successfully complete the task in a previous episode\n",
        "    # used for smart decay only\n",
        "    if delta:\n",
        "      self.steps += 1\n",
        "    # decay strategies\n",
        "    if self.strategy == \"pow\":\n",
        "      return max(self.min_epsilon, self.max_epsilon * (self.decay_rate ** self.steps))\n",
        "    elif self.strategy == \"exp\":\n",
        "      return max(self.min_epsilon, self.max_epsilon * np.exp(-self.decay_rate * self.steps))\n",
        "\n",
        "  def get_action(self, obs, q_table, visit_counter, epsilon=\"auto\", \n",
        "                 tau=0.1, have_succeeded=False, mc=False):\n",
        "    # get the direction of the current station\n",
        "    current_dir = q_table[q_table[\"id1\"]==obs][\"direction1\"].values[0]\n",
        "    \n",
        "    # set the decay rate\n",
        "    if (epsilon == \"smart\") and have_succeeded:\n",
        "      self.decay_rate = self.smart_decay_rate\n",
        "      \n",
        "    if (epsilon == \"auto\") or (epsilon == \"smart\"):\n",
        "      epsilon = self.get_epsilon(have_succeeded)\n",
        "      \n",
        "    # select the next action \n",
        "    if np.random.binomial(1, epsilon) == 1:\n",
        "      neighbours = list(q_table[\"id2\"])\n",
        "      neighbours_directions = list(q_table[\"direction2\"])\n",
        "      neighbours_flags = list(q_table[\"flag\"])\n",
        "      neighbours_is2d = list(q_table[\"2d\"]) \n",
        "      p = []\n",
        "      # select action based on Q-values with bias to direction for 2d stations\n",
        "      for d,f,s in zip(neighbours_directions, neighbours_flags, neighbours_is2d):\n",
        "        if f == \"t\":\n",
        "          if d == current_dir:\n",
        "            if s:\n",
        "              p.append(1)\n",
        "            else:\n",
        "              p.append(tau)\n",
        "          else:\n",
        "            p.append(tau)\n",
        "        elif f == \"a\":\n",
        "          p.append(1)\n",
        "        else:\n",
        "          p.append(tau)\n",
        "      if np.sum(p) > 0:\n",
        "        p = [x / np.sum(p) for x in p]\n",
        "      else:\n",
        "        p = [1 / len(p) for x in p]\n",
        "      return np.random.choice(a=neighbours, p=p)\n",
        "    else:\n",
        "      if mc:\n",
        "        # for FVMC only - select action based on the updated probabilities\n",
        "        neighbours = list(q_table[\"id2\"])\n",
        "        p = list(q_table[\"pi\"])\n",
        "        if np.sum(p) > 0:\n",
        "          p = [x / np.sum(p) for x in p]\n",
        "        else:\n",
        "          p = [1 / len(p) for x in p]\n",
        "        return np.random.choice(a=neighbours, p=p)\n",
        "      else:\n",
        "        # otherwise, select action based on Q-values with bias to direction for 2d stations\n",
        "        neighbours = list(q_table.loc[q_table[\"q\"] == q_table[\"q\"].max()][\"id2\"])\n",
        "        p = [tau for _ in neighbours]\n",
        "        if q_table.iloc[0][\"2d\"]:\n",
        "          q_table_1 = q_table[q_table[\"direction2\"] == current_dir][\"id2\"]\n",
        "          if q_table_1.shape[0] != 0:\n",
        "            neighbours_2d = list(q_table_1)\n",
        "            for _ in neighbours_2d:\n",
        "              p.append(1)\n",
        "            neighbours += neighbours_2d\n",
        "        if np.sum(p) > 0:\n",
        "          p = [x / np.sum(p) for x in p]\n",
        "        else:\n",
        "          p = [1 / len(p) for x in p]\n",
        "        return np.random.choice(a=neighbours, p=p)"
      ]
    },
    {
      "attachments": {},
      "cell_type": "markdown",
      "metadata": {
        "id": "WLodW80eBPPT"
      },
      "source": [
        "## 3.4 Defining Agents"
      ]
    },
    {
      "attachments": {},
      "cell_type": "markdown",
      "metadata": {
        "id": "uXsXV1j5BYES"
      },
      "source": [
        "### 3.4.1 Defining a General Agent Class\n",
        "\n",
        "We define a base class for all agents. This base class is designed for off-policy evaluation, i.e. the agent first generates an episode using the $ɛ$-greedy policy, then the policy is evaluated to update the Q-table after the episode has terminated using the `policy_evaluation()` method.\n",
        "\n",
        "An on-policy agent (such as SARSA_ can also use this base class by overriding the `run()` method and not implementing the `policy_evaluation()` method.\n",
        "\n",
        "The DQL agent also overrides the `run()` method as it updates the local and target networks every $T_\\text{target}$ number of steps and not after the entire episode was generated."
      ]
    },
    {
      "cell_type": "code",
      "execution_count": null,
      "metadata": {
        "id": "kzFgyzhOMpu3"
      },
      "outputs": [],
      "source": [
        "class Agent:\n",
        "  def __init__(self, env, policy, \n",
        "               state_progress=False, episode_length_limit=10001, tau=0.1,\n",
        "               *args, **kwargs):\n",
        "    self.env = env\n",
        "    self.obs = env.reset()\n",
        "    self.policy = policy\n",
        "    self.state_history = list()\n",
        "    self.state_history_unique = set()\n",
        "    self.reward_history = list()\n",
        "    self.done_history = list()\n",
        "    self.done = False\n",
        "    self.state_progress = state_progress\n",
        "    self.episode_length_limit = episode_length_limit\n",
        "    self.tau = tau\n",
        "    self.succeeded = False\n",
        "    \n",
        "    # for epsilon-greedy policy\n",
        "    self.mc = False\n",
        "    self.onpolicy = False\n",
        "\n",
        "    # statistics\n",
        "    self.num_visited_per_episode = list()\n",
        "    self.reward_per_episode = list()\n",
        "    self.steps_per_episode = list()\n",
        "\n",
        "  def run(self, num_episodes):\n",
        "    for e in tqdm(range(num_episodes), bar_format=\"{elapsed} {bar} Episode: {n_fmt}/{total_fmt}\"):\n",
        "      self.obs = self.env.reset()\n",
        "      self.env.steps_limit = self.episode_length_limit\n",
        "      self.state_history = list()\n",
        "      self.state_history_unique = set()\n",
        "      self.state_history.append(self.obs)\n",
        "      self.reward_history = list()\n",
        "      self.done_history = list()\n",
        "\n",
        "      inner_pbar = tqdm(total=self.episode_length_limit-1, leave=True, disable=not self.state_progress,\n",
        "                        bar_format=\"{elapsed} {bar}  Steps: {n_fmt}/{total_fmt} {desc}\")\n",
        "      while not self.done and len(self.state_history) < self.episode_length_limit:\n",
        "        action = self.policy.get_action(self.obs, self.env.get_q_table_neighbours(self.obs), self.env.visit_counter, \n",
        "                                        epsilon=\"smart\", tau=self.tau, have_succeeded=self.succeeded)\n",
        "        obs, reward, done = self.env.step(action)\n",
        "        self.state_history.append(obs)\n",
        "        self.reward_history.append(reward)\n",
        "        inner_pbar.update(1)\n",
        "        if np.trunc(obs) in self.state_history_unique:\n",
        "          pass\n",
        "        else:\n",
        "          self.state_history_unique.add(np.trunc(obs))\n",
        "        inner_pbar.set_description(f\"Number of stations visited: {len(self.state_history_unique)} Current station: {self.env.get_station_name(obs)} (visited {self.env.visit_counter[np.trunc(obs)]} times)\")\n",
        "\n",
        "        if done:\n",
        "          self.done_history.append(1)\n",
        "          self.succeeded = True\n",
        "          break\n",
        "        else:\n",
        "          self.done_history.append(0)\n",
        "          self.obs = obs\n",
        "          self.done = done\n",
        "\n",
        "      inner_pbar.close()\n",
        "      self.steps_per_episode.append(self.env.steps)\n",
        "      self.num_visited_per_episode.append(len(self.state_history_unique))\n",
        "      self.reward_per_episode.append(sum(self.reward_history))\n",
        "      self.policy_evaluation()\n",
        "\n",
        "\n",
        "  def policy_evaluation(self):\n",
        "    pass"
      ]
    },
    {
      "attachments": {},
      "cell_type": "markdown",
      "metadata": {
        "id": "X_jP7PqyBNUp"
      },
      "source": [
        "### 3.4.2 First-Visit MC"
      ]
    },
    {
      "cell_type": "code",
      "execution_count": null,
      "metadata": {
        "id": "NmdKopfiMpYk"
      },
      "outputs": [],
      "source": [
        "class FirstVisitMC(Agent):\n",
        "  def __init__(self, \n",
        "               gamma=0.9, \n",
        "               kappa=0.1, \n",
        "               *args, **kwargs):\n",
        "    self.gamma = gamma\n",
        "    self.kappa = kappa\n",
        "    super().__init__(*args, **kwargs)\n",
        "    self.env.q_table[\"pi\"] = 0.0\n",
        "    self.r_s_a = defaultdict(list)\n",
        "    self.mc = True\n",
        "\n",
        "  def policy_evaluation(self):\n",
        "    G = 0\n",
        "    sh = self.state_history\n",
        "    T = len(sh)-1\n",
        "\n",
        "    # Loop for each step of episode\n",
        "    for t in range(T-1, -1, -1):\n",
        "      St, At = sh[t], sh[t+1]\n",
        "      Rt_1 = self.reward_history[t]\n",
        "      G = self.gamma * G + Rt_1\n",
        "      q_table = self.env.q_table\n",
        "\n",
        "\n",
        "      if not (St, At) in [(sh[i], sh[i+1]) for i in range(0, t)]:\n",
        "        \n",
        "        # Update q table\n",
        "        self.r_s_a[(St, At)].append(G)\n",
        "        q_table.loc[((q_table.id1 == St) & (q_table.id2 == At)), 'q'] = np.average(self.r_s_a[(St, At)])\n",
        "\n",
        "        # Find A*\n",
        "        q_table_n = self.env.get_q_table_neighbours(St)\n",
        "        actions = self.env.get_available_actions(St)\n",
        "        A_star = np.random.choice(list(q_table_n.loc[q_table_n[\"q\"] == q_table_n[\"q\"].max()][\"id2\"]))\n",
        "\n",
        "        # Update Policy\n",
        "        for a in actions:\n",
        "          if a == A_star:\n",
        "            q_table.loc[((q_table.id1 == St) & (q_table.id2 == a)), 'pi'] = 1 - self.kappa + self.kappa/len(actions)\n",
        "          else:\n",
        "            q_table.loc[((q_table.id1 == St) & (q_table.id2 == a)), 'pi'] = self.kappa/len(actions)\n",
        "\n",
        "        # Update Self q table\n",
        "        self.env.q_table = q_table"
      ]
    },
    {
      "attachments": {},
      "cell_type": "markdown",
      "metadata": {
        "id": "HSGUeQeXBycd"
      },
      "source": [
        "### 3.4.3 SARSA"
      ]
    },
    {
      "cell_type": "code",
      "execution_count": null,
      "metadata": {
        "id": "6xOcE4GlMpE1"
      },
      "outputs": [],
      "source": [
        "class SARSAAgent(Agent):\n",
        "  def __init__(self, \n",
        "               alpha, \n",
        "               gamma,\n",
        "               *args, **kwargs):\n",
        "    \n",
        "    # params\n",
        "    self.alpha = alpha\n",
        "    self.gamma = gamma\n",
        "\n",
        "    super().__init__(*args, **kwargs)\n",
        "    self.onpolicy = True\n",
        "\n",
        "  def sarsa(self, qsa, next_qsa, r):\n",
        "    return qsa + self.alpha * (r + self.gamma * next_qsa - qsa)\n",
        "\n",
        "  def run(self, num_episodes):\n",
        "    for e in tqdm(range(num_episodes), bar_format=\"{elapsed} {bar} Episode: {n_fmt}/{total_fmt}\"):\n",
        "      \n",
        "      # setup\n",
        "      self.env.steps_limit = self.episode_length_limit\n",
        "      self.state_history = list()\n",
        "      self.state_history_unique = set()\n",
        "      self.state_history.append(self.obs)\n",
        "      self.reward_history = list()\n",
        "      self.done_history = list()\n",
        "      inner_pbar = tqdm(total=self.episode_length_limit-1, leave=True, disable=not self.state_progress,\n",
        "                  bar_format=\"{elapsed} {bar}  Steps: {n_fmt}/{total_fmt} {desc}\")\n",
        "\n",
        "      # initialize initial state s \n",
        "      self.obs = self.env.reset()\n",
        "      self.state_history.append(self.obs)\n",
        "\n",
        "      # choose action a from s with epsilon-greedy policy from Q \n",
        "      action = self.policy.get_action(self.obs, self.env.get_q_table_neighbours(self.obs), self.env.visit_counter, \n",
        "                                        epsilon=\"smart\", tau=self.tau, have_succeeded=self.succeeded)\n",
        "      \n",
        "      inner_pbar.update(1)\n",
        "\n",
        "      while not self.done and len(self.state_history) < self.episode_length_limit:\n",
        "        # take action a, observe reward r and next state s'\n",
        "        next_obs, reward, done = self.env.step(action)\n",
        "        self.state_history.append(next_obs)\n",
        "        self.reward_history.append(reward)\n",
        "        if np.trunc(next_obs) in self.state_history_unique:\n",
        "          pass\n",
        "        else:\n",
        "          self.state_history_unique.add(np.trunc(next_obs))\n",
        "\n",
        "\n",
        "        # get action a' from Q with s'\n",
        "        next_action = self.policy.get_action(next_obs, self.env.get_q_table_neighbours(next_obs), self.env.visit_counter, \n",
        "                                        epsilon=\"smart\", tau=self.tau, have_succeeded=self.succeeded)\n",
        "\n",
        "        # update Q \n",
        "        self.env.q_table.loc[((self.env.q_table.id1 == self.obs) & (self.env.q_table.id2 == action)), 'q'] = self.sarsa(self.env.q_table.loc[((self.env.q_table.id1 == self.obs) & (self.env.q_table.id2 == action)), 'q'].values[0], self.env.q_table.loc[((self.env.q_table.id1 == next_obs) & (self.env.q_table.id2 == next_action)), 'q'].values[0], reward)\n",
        "        \n",
        "        inner_pbar.set_description(f\"Number of stations visited: {len(self.state_history_unique)} Current station: {self.env.get_station_name(next_obs)} (visited {self.env.visit_counter[np.trunc(next_obs)]} times)\")\n",
        "\n",
        "        if done:\n",
        "          self.done_history.append(1)\n",
        "          self.succeeded = True\n",
        "          break\n",
        "        else:                                                                                \n",
        "          # s = s', a = a', update self q table\n",
        "          self.done_history.append(0)\n",
        "          self.obs = next_obs\n",
        "          action = next_action\n",
        "          self.done = done\n",
        "          \n",
        "        inner_pbar.update(1)\n",
        "\n",
        "        inner_pbar.close()\n",
        "        \n",
        "      self.steps_per_episode.append(self.env.steps)\n",
        "      self.num_visited_per_episode.append(len(self.state_history_unique))\n",
        "      self.reward_per_episode.append(sum(self.reward_history))"
      ]
    },
    {
      "attachments": {},
      "cell_type": "markdown",
      "metadata": {
        "id": "2xA5UC1GBdOF"
      },
      "source": [
        "### 3.4.4 Q-Learning"
      ]
    },
    {
      "cell_type": "code",
      "execution_count": null,
      "metadata": {
        "id": "QcmT_I8HMopF"
      },
      "outputs": [],
      "source": [
        "class QLearning(Agent):\n",
        "  def __init__(self, \n",
        "               alpha, \n",
        "               gamma, \n",
        "               *args, **kwargs):\n",
        "    self.alpha = alpha\n",
        "    self.gamma = gamma\n",
        "    super().__init__(*args, **kwargs)\n",
        "\n",
        "  def policy_evaluation(self):\n",
        "    for state, action, reward in zip(self.state_history[:-1], \n",
        "                                     self.state_history[1:],\n",
        "                                     self.reward_history):\n",
        "      # Get current Q-values\n",
        "      current_q = self.env.q_table[(self.env.q_table.id1 == state) & (self.env.q_table.id2 == action)][\"q\"]\n",
        "\n",
        "      # Compute next Q-values using greedy policy\n",
        "      max_next_q = self.env.get_q_table_neighbours(state)[\"q\"].max()\n",
        "\n",
        "      # Update Q-values\n",
        "      new_q = current_q + self.alpha * (reward + self.gamma * max_next_q - current_q)\n",
        "      self.env.q_table.loc[((self.env.q_table.id1 == state) & (self.env.q_table.id2 == action)), \"q\"] = new_q"
      ]
    },
    {
      "attachments": {},
      "cell_type": "markdown",
      "metadata": {
        "id": "w97wbGT1BLvX"
      },
      "source": [
        "### 3.4.5 Neural Fitted Q Iteration\n",
        "\n",
        "The neural network used consists of three hidden linear (fully connected) layers with 32 neurons in each hidden layer. \n",
        "\n",
        "The Q network takes input $(s,a)$ and outputs the corresponding Q-value $Q(s,a)$.\n"
      ]
    },
    {
      "cell_type": "code",
      "execution_count": null,
      "metadata": {
        "id": "ZMdIROeDMocF"
      },
      "outputs": [],
      "source": [
        "class NFQINetwork(nn.Module):\n",
        "  def __init__(self):\n",
        "    super().__init__()\n",
        "    self.net = nn.Sequential(\n",
        "        nn.Linear(2, 32),\n",
        "        nn.ReLU(),\n",
        "        nn.Linear(32, 32),\n",
        "        nn.ReLU(),\n",
        "        nn.Linear(32, 32),\n",
        "        nn.ReLU(),\n",
        "        nn.Linear(32, 1),\n",
        "        nn.Sigmoid()\n",
        "    )\n",
        "  \n",
        "    def init_weights(m):\n",
        "      if type(m) == nn.Linear:\n",
        "        nn.init.kaiming_uniform_(m.weight)\n",
        "    \n",
        "    self.net.apply(init_weights)\n",
        "\n",
        "  def forward(self, x):\n",
        "    return self.net(x)"
      ]
    },
    {
      "cell_type": "code",
      "execution_count": null,
      "metadata": {
        "id": "pDM77NlOM6X_"
      },
      "outputs": [],
      "source": [
        "class NFQI(Agent):\n",
        "  def __init__(self, \n",
        "               net, \n",
        "               optimizer, \n",
        "               loss, \n",
        "               gamma, \n",
        "               device=torch.device(\"cpu\"),\n",
        "               *args, **kwargs):\n",
        "    # Use GPU if available\n",
        "    if torch.cuda.is_available(): \n",
        "      self.device = torch.device(\"cuda\")\n",
        "    elif torch.backends.mps.is_available(): \n",
        "      self.device = torch.device(\"mps\")\n",
        "    else: \n",
        "      torch.device = device\n",
        "      \n",
        "    self.net = net.to(self.device)\n",
        "    self.optimizer = optimizer\n",
        "    self.loss = loss\n",
        "    self.gamma = gamma\n",
        "    super().__init__(*args, **kwargs)\n",
        "\n",
        "    \n",
        "\n",
        "  def policy_evaluation(self):\n",
        "    s = torch.tensor(self.state_history[:-1], dtype=torch.float)\n",
        "    a = torch.tensor(self.state_history[1:], dtype=torch.float)\n",
        "    sa = torch.stack((s,a), dim=1).to(self.device)\n",
        "    r = torch.reshape(torch.tensor(self.reward_history, dtype=torch.float), (-1,1)).to(self.device)\n",
        "    sn = torch.reshape(a, (-1,1)).to(self.device)\n",
        "    done = torch.reshape(torch.tensor(self.done_history), (-1,1)).to(self.device)\n",
        "\n",
        "    # Compute target values\n",
        "    y = r + self.gamma * self.next_q(sn) * (torch.ones_like(done) - done)\n",
        "\n",
        "    self.net.train()\n",
        "    self.optimizer.zero_grad()\n",
        "    l = self.loss(self.net(sa), y)\n",
        "    l.backward()\n",
        "    self.optimizer.step()\n",
        "\n",
        "  # Compute Q-values using the current Neural Network\n",
        "  def predict_q(self, row):\n",
        "    x = torch.tensor((row[0], row[1]), dtype=torch.float).to(self.device)\n",
        "    pred_q = self.net(x).to(torch.device(\"cpu\")).detach().numpy()\n",
        "    return pred_q\n",
        "\n",
        "  # Helper function to get next Q-value using greedy policy\n",
        "  def next_q(self, sn):\n",
        "    df = pd.DataFrame([(x.item(), self.env.get_available_actions(x[0].item())) for x in sn]).explode(1)\n",
        "    df[\"est_Q\"] = df.apply(lambda row: self.predict_q(row), axis=1)\n",
        "    df = df.reset_index()\n",
        "    df = df.groupby([\"index\"]).agg({\"est_Q\": lambda x: x.tolist()})\n",
        "    df = df.apply(lambda row: np.max(row[\"est_Q\"]).astype(float), axis=1)\n",
        "    return torch.reshape(torch.tensor(df.values, dtype=torch.float), (-1,1)).to(self.device)"
      ]
    },
    {
      "attachments": {},
      "cell_type": "markdown",
      "metadata": {
        "id": "ZUk0xYYDB1QW"
      },
      "source": [
        "### 3.4.6 Deep Q Learning\n",
        "\n",
        "The neural networks used consists of three hidden linear (fully connected) layers with 32 neurons in each hidden layer. \n",
        "\n",
        "The Q network takes input $(s,a)$ and outputs the corresponding Q-value $Q(s,a)$. This is different to a more common design where for a given state $s$ the Q-network will output the Q-values $Q(s,a)$ for all possible actions $a$ due to the state-dependent action space with a varying number of actions available to each possible state. Therefore, in this architecture computing the Q-values require as many forward passes as the number of actions.\n",
        "\n",
        "This agent selects the next action (with the `act()` method) using the biased $ɛ$-greedy policy as describe above.\n"
      ]
    },
    {
      "cell_type": "code",
      "execution_count": null,
      "metadata": {
        "id": "16Uq_a9T9qwG"
      },
      "outputs": [],
      "source": [
        "class DQLNetwork(nn.Module):\n",
        "  def __init__(self):\n",
        "    super().__init__()\n",
        "    self.net = nn.Sequential(\n",
        "        nn.Linear(2, 32),\n",
        "        nn.ReLU(),\n",
        "        nn.Linear(32, 32),\n",
        "        nn.ReLU(),\n",
        "        nn.Linear(32, 32),\n",
        "        nn.ReLU(),\n",
        "        nn.Linear(32, 1),\n",
        "        nn.ReLU()\n",
        "    )\n",
        "  \n",
        "    def init_weights(m):\n",
        "      if type(m) == nn.Linear:\n",
        "        nn.init.kaiming_uniform_(m.weight)\n",
        "    \n",
        "    self.net.apply(init_weights)\n",
        "\n",
        "  def forward(self, x):\n",
        "    return self.net(x)"
      ]
    },
    {
      "cell_type": "code",
      "execution_count": null,
      "metadata": {
        "id": "iJL4hKtDNU75"
      },
      "outputs": [],
      "source": [
        "class ReplayBuffer:\n",
        "    def __init__(self, buffer_size=int(1e5), batch_size=64):\n",
        "        self.memory = deque(maxlen=buffer_size)\n",
        "        self.batch_size = batch_size\n",
        "        self.experience = namedtuple(\"Experience\",\n",
        "                                     field_names=[\"state\", \"action\", \"reward\", \"next_state\", \"done\"])\n",
        "    \n",
        "    def add(self, state, action, reward, next_state, done):\n",
        "        e = self.experience(state, action, reward, next_state, done)\n",
        "        self.memory.append(e)\n",
        "\n",
        "    def sample(self):\n",
        "      # Get a random batch of experiences\n",
        "        experiences = random.sample(self.memory, k=self.batch_size)\n",
        "\n",
        "        states = np.vstack([e.state for e in experiences if e is not None])\n",
        "        actions = np.vstack([e.action for e in experiences if e is not None])\n",
        "        rewards = np.vstack([e.reward for e in experiences if e is not None])\n",
        "        next_states = np.vstack([e.next_state for e in experiences if e is not None])\n",
        "        dones = np.vstack([e.done for e in experiences if e is not None])\n",
        "        \n",
        "        return (states, actions, rewards, next_states, dones)\n",
        "    \n",
        "    def __len__(self):\n",
        "        return len(self.memory)"
      ]
    },
    {
      "cell_type": "code",
      "execution_count": null,
      "metadata": {
        "id": "yok0vnw8NSSG"
      },
      "outputs": [],
      "source": [
        "class DQLAgent(Agent):\n",
        "    def __init__(self, \n",
        "                 local_net, \n",
        "                 target_net, \n",
        "                 optimizer, \n",
        "                 replay_buffer,\n",
        "                 eps_start=1.0, \n",
        "                 eps_end=0.01, \n",
        "                 eps_decay=0.995,\n",
        "                 gamma=1.0, \n",
        "                 tau=1e-3, \n",
        "                 update_every=4,\n",
        "                 device=torch.device(\"cpu\"),\n",
        "                 *args, **kwargs):\n",
        "        self.gamma = gamma\n",
        "        self.update_every = update_every\n",
        "\n",
        "        # Use GPU if available\n",
        "        if torch.cuda.is_available(): \n",
        "          self.device = torch.device(\"cuda\")\n",
        "        elif torch.backends.mps.is_available(): \n",
        "          self.device = torch.device(\"mps\")\n",
        "        else: \n",
        "          torch.device = device\n",
        "\n",
        "        self.local_net = local_net.to(self.device)\n",
        "        self.target_net = target_net.to(self.device)\n",
        "        self.optimizer = optimizer\n",
        "        self.memory = replay_buffer\n",
        "        self.t_step = 0\n",
        "        self.scores = []\n",
        "        self.scores_window = deque(maxlen=100)\n",
        "        self.eps_start = eps_start\n",
        "        self.eps_end = eps_end\n",
        "        self.eps_decay = eps_decay\n",
        "        super().__init__(*args, **kwargs)\n",
        "\n",
        "    def step(self, state, action, reward, next_state, done):\n",
        "        self.memory.add(state, action, reward, next_state, done)\n",
        "        # for every \"update_every\" steps, the agent learns\n",
        "        self.t_step = (self.t_step + 1) % self.update_every\n",
        "        if self.t_step == 0:\n",
        "            # if enough samples are in memory, generate \"batch_size\" samples\n",
        "            if len(self.memory) > self.memory.batch_size:\n",
        "                experiences = self.memory.sample()\n",
        "                self.learn(experiences, self.gamma)\n",
        "\n",
        "    # Epsilon greedy policy as in the class defined above\n",
        "    # But using the Q-values given in the local network\n",
        "    def act(self, state, eps=0., tau=0.0001):\n",
        "        q_table = self.env.get_q_table_neighbours(state)\n",
        "        self.local_net.eval()\n",
        "        with torch.no_grad():\n",
        "            q_table.loc[:,\"q\"] = q_table.apply(lambda row: self.predict_q_local(row), axis=1)\n",
        "        self.local_net.train()\n",
        "        current_dir = q_table[q_table[\"id1\"]==state][\"direction1\"].values[0]\n",
        "        \n",
        "        if np.random.binomial(1, eps) == 1:\n",
        "            neighbours = list(q_table[\"id2\"])\n",
        "            neighbours_directions = list(q_table[\"direction2\"])\n",
        "            neighbours_flags = list(q_table[\"flag\"])\n",
        "            neighbours_is2d = list(q_table[\"2d\"]) \n",
        "            p = []\n",
        "            for d,f,s in zip(neighbours_directions, neighbours_flags, neighbours_is2d):\n",
        "                if f == \"t\":\n",
        "                    if d == current_dir:\n",
        "                        if s:\n",
        "                            p.append(1)\n",
        "                        else:\n",
        "                            p.append(tau)\n",
        "                    else:\n",
        "                        p.append(tau)\n",
        "                elif f == \"a\":\n",
        "                    p.append(1)\n",
        "                else:\n",
        "                    p.append(tau)\n",
        "            if np.sum(p) > 0:\n",
        "                p = [x / np.sum(p) for x in p]\n",
        "            else:\n",
        "                p = [1 / len(p) for x in p]\n",
        "            return np.random.choice(a=neighbours, p=p)\n",
        "        else:\n",
        "            neighbours = list(q_table.loc[q_table[\"q\"] == q_table[\"q\"].max()][\"id2\"])\n",
        "            p = [tau for _ in neighbours]\n",
        "            if q_table.iloc[0][\"2d\"]:\n",
        "                q_table_1 = q_table[q_table[\"direction2\"] == current_dir][\"id2\"]\n",
        "                if q_table_1.shape[0] != 0:\n",
        "                    neighbours_2d = list(q_table_1)\n",
        "                    for _ in neighbours_2d:\n",
        "                        p.append(1)\n",
        "                    neighbours += neighbours_2d\n",
        "            if np.sum(p) > 0:\n",
        "                p = [x / np.sum(p) for x in p]\n",
        "            else:\n",
        "                p = [1 / len(p) for x in p]\n",
        "            return np.random.choice(a=neighbours, p=p)\n",
        "    \n",
        "    def predict_q_local(self, row):\n",
        "        x = torch.tensor((row[0], row[1]), dtype=torch.float).to(self.device)\n",
        "        pred_q = self.local_net(x).to(torch.device(\"cpu\")).detach().numpy()[0]\n",
        "        return pred_q\n",
        "    \n",
        "    def predict_q_target(self, row):\n",
        "        x = torch.tensor((row[0], row[1]), dtype=torch.float).to(self.device)\n",
        "        pred_q = self.target_net(x).to(torch.device(\"cpu\")).detach().numpy()\n",
        "        return pred_q\n",
        "\n",
        "    def next_q(self, sn):\n",
        "        df = pd.DataFrame([(x.item(), self.env.get_available_actions(x[0].item())) for x in sn]).explode(1)\n",
        "        df[\"est_Q_target\"] = df.apply(lambda row: self.predict_q_target(row), axis=1)\n",
        "        df = df.reset_index()\n",
        "        df = df.groupby([\"index\"]).agg({\"est_Q_target\": lambda x: x.tolist()})\n",
        "        df = df.apply(lambda row: np.max(row[\"est_Q_target\"]).astype(float), axis=1)\n",
        "        return torch.reshape(torch.tensor(df.values, dtype=torch.float), (-1,1))\n",
        "\n",
        "    def learn(self, experiences, gamma):\n",
        "        states, actions, rewards, next_states, dones = experiences\n",
        "        states = torch.tensor(states, dtype=torch.float)\n",
        "        actions = torch.tensor(actions, dtype=torch.float)\n",
        "        rewards = torch.reshape(torch.tensor(rewards, dtype=torch.float), (-1,1)).to(self.device)\n",
        "\n",
        "        dones = torch.reshape(torch.tensor(dones), (-1,1)).to(self.device)\n",
        "        \n",
        "        sa = torch.cat((states, actions), dim=1).to(self.device)\n",
        "        q_targets_next = self.next_q(next_states).to(self.device)\n",
        "\n",
        "        q_targets = rewards + gamma * q_targets_next * (torch.ones_like(dones) - dones)\n",
        "        q_expected = self.local_net(sa)\n",
        "\n",
        "        l = F.mse_loss(q_expected, q_targets)\n",
        "        self.optimizer.zero_grad()\n",
        "        l.backward()\n",
        "        self.optimizer.step()\n",
        "\n",
        "        self.soft_update(self.local_net, self.target_net, self.tau)\n",
        "\n",
        "    def soft_update(self, local_model, target_model, tau):\n",
        "        for target_param, local_param in zip(target_model.parameters(), local_model.parameters()):\n",
        "            target_param.data.copy_(tau*local_param.data + (1.0-tau)*target_param.data)\n",
        "\n",
        "    def run(self, num_episodes):\n",
        "        eps = self.eps_start\n",
        "        score = 0\n",
        "        for e in tqdm(range(num_episodes), bar_format=\"{elapsed} {bar} Episode: {n_fmt}/{total_fmt}\"):\n",
        "            obs = self.env.reset()\n",
        "            self.state_history = list()\n",
        "            self.state_history_unique = set()\n",
        "            self.state_history.append(obs)\n",
        "            self.reward_history = list()\n",
        "            self.done_history = list()\n",
        "\n",
        "            inner_pbar = tqdm(total=self.episode_length_limit-1, leave=False, disable=not self.state_progress,\n",
        "                                    bar_format=\"{elapsed} {bar}  Steps: {n_fmt}/{total_fmt} {desc}\")\n",
        "            for t in range(self.episode_length_limit-1):\n",
        "                action = self.act(obs, eps, self.tau)\n",
        "\n",
        "                ns, r, done = self.env.step(action)\n",
        "                self.step(obs, action, r, ns, int(done))\n",
        "                self.state_history.append(ns)\n",
        "                if np.trunc(ns) in self.state_history_unique:\n",
        "                    pass\n",
        "                else:\n",
        "                    self.state_history_unique.add(np.trunc(ns))\n",
        "                self.reward_history.append(r)\n",
        "                score += r    \n",
        "\n",
        "                inner_pbar.update(1)\n",
        "                inner_pbar.set_description(f\"Number of stations visited: {len(self.state_history_unique)} Current station: {self.env.get_station_name(ns)} (visited {self.env.visit_counter[np.trunc(ns)]} times)\")\n",
        "\n",
        "\n",
        "                if done:\n",
        "                    self.done_history.append(1)\n",
        "                    break\n",
        "                else:\n",
        "                    self.done_history.append(0)\n",
        "                    obs = ns\n",
        "            inner_pbar.close()\n",
        "\n",
        "            self.scores_window.append(score)\n",
        "            self.scores.append(score)\n",
        "            eps = max(self.eps_end, self.eps_decay * eps)\n",
        "\n",
        "            self.steps_per_episode.append(self.env.steps)\n",
        "            self.num_visited_per_episode.append(len(self.state_history_unique))\n",
        "            self.reward_per_episode.append(sum(self.reward_history))"
      ]
    },
    {
      "attachments": {},
      "cell_type": "markdown",
      "metadata": {
        "id": "wtkoN7lnCcY1"
      },
      "source": [
        "## 3.5 Initial Training Loop for all Agents\n"
      ]
    },
    {
      "attachments": {},
      "cell_type": "markdown",
      "metadata": {
        "id": "7taBBm7w0AYH"
      },
      "source": [
        "We first performed a grid search for all of the reward parameters. We trialled all possible combinations of: \n",
        "- complete_bonus: [1, 10, 100, 1000]\n",
        "- beta: [1, 10, 100]\n",
        "- eta: [1, 10, 100]\n",
        "on the SARSA model for 10 episodes each. \n",
        "\n",
        "The following table gives us the median steps across these 10 episodes for each combination. We can see a smaller complete_bonus seems to perform better, though the relationship for beta and eta is more ambiguous. To simplify our subsequent training, we use the reward settings that yield the highest `median_steps` below. "
      ]
    },
    {
      "cell_type": "code",
      "execution_count": 138,
      "metadata": {
        "id": "rvwkg6yq0A0J"
      },
      "outputs": [
        {
          "data": {
            "text/html": [
              "<div>\n",
              "<style scoped>\n",
              "    .dataframe tbody tr th:only-of-type {\n",
              "        vertical-align: middle;\n",
              "    }\n",
              "\n",
              "    .dataframe tbody tr th {\n",
              "        vertical-align: top;\n",
              "    }\n",
              "\n",
              "    .dataframe thead th {\n",
              "        text-align: right;\n",
              "    }\n",
              "</style>\n",
              "<table border=\"1\" class=\"dataframe\">\n",
              "  <thead>\n",
              "    <tr style=\"text-align: right;\">\n",
              "      <th></th>\n",
              "      <th>complete_bonus</th>\n",
              "      <th>beta</th>\n",
              "      <th>eta</th>\n",
              "      <th>median_steps</th>\n",
              "    </tr>\n",
              "  </thead>\n",
              "  <tbody>\n",
              "    <tr>\n",
              "      <th>0</th>\n",
              "      <td>1</td>\n",
              "      <td>1</td>\n",
              "      <td>1</td>\n",
              "      <td>2954.5</td>\n",
              "    </tr>\n",
              "    <tr>\n",
              "      <th>1</th>\n",
              "      <td>1</td>\n",
              "      <td>100</td>\n",
              "      <td>100</td>\n",
              "      <td>4002.5</td>\n",
              "    </tr>\n",
              "    <tr>\n",
              "      <th>2</th>\n",
              "      <td>1</td>\n",
              "      <td>1</td>\n",
              "      <td>10</td>\n",
              "      <td>4008.5</td>\n",
              "    </tr>\n",
              "    <tr>\n",
              "      <th>3</th>\n",
              "      <td>1</td>\n",
              "      <td>100</td>\n",
              "      <td>10</td>\n",
              "      <td>4016.0</td>\n",
              "    </tr>\n",
              "    <tr>\n",
              "      <th>4</th>\n",
              "      <td>1</td>\n",
              "      <td>10</td>\n",
              "      <td>10</td>\n",
              "      <td>4103.0</td>\n",
              "    </tr>\n",
              "    <tr>\n",
              "      <th>5</th>\n",
              "      <td>1</td>\n",
              "      <td>100</td>\n",
              "      <td>1</td>\n",
              "      <td>4220.0</td>\n",
              "    </tr>\n",
              "    <tr>\n",
              "      <th>6</th>\n",
              "      <td>1</td>\n",
              "      <td>10</td>\n",
              "      <td>1</td>\n",
              "      <td>4222.0</td>\n",
              "    </tr>\n",
              "    <tr>\n",
              "      <th>7</th>\n",
              "      <td>10</td>\n",
              "      <td>10</td>\n",
              "      <td>1</td>\n",
              "      <td>4240.0</td>\n",
              "    </tr>\n",
              "    <tr>\n",
              "      <th>8</th>\n",
              "      <td>1</td>\n",
              "      <td>1</td>\n",
              "      <td>10</td>\n",
              "      <td>4650.5</td>\n",
              "    </tr>\n",
              "    <tr>\n",
              "      <th>9</th>\n",
              "      <td>100</td>\n",
              "      <td>100</td>\n",
              "      <td>1</td>\n",
              "      <td>4883.5</td>\n",
              "    </tr>\n",
              "  </tbody>\n",
              "</table>\n",
              "</div>"
            ],
            "text/plain": [
              "   complete_bonus  beta  eta  median_steps\n",
              "0               1     1    1        2954.5\n",
              "1               1   100  100        4002.5\n",
              "2               1     1   10        4008.5\n",
              "3               1   100   10        4016.0\n",
              "4               1    10   10        4103.0\n",
              "5               1   100    1        4220.0\n",
              "6               1    10    1        4222.0\n",
              "7              10    10    1        4240.0\n",
              "8               1     1   10        4650.5\n",
              "9             100   100    1        4883.5"
            ]
          },
          "execution_count": 138,
          "metadata": {},
          "output_type": "execute_result"
        }
      ],
      "source": [
        "gridsearch_sarsa = pd.read_csv(\"dataset/gridsearch_sarsa_1.csv\")\n",
        "gridsearch_sarsa[['complete_bonus', 'beta', 'eta', 'median_steps']][:10]"
      ]
    },
    {
      "attachments": {},
      "cell_type": "markdown",
      "metadata": {
        "id": "3HdH_oenbTQH"
      },
      "source": [
        "\n",
        "\n",
        "\n",
        "\n",
        "We initially train each agent for 10 episodes, with the following (hyper-)parameters fixed. Some parameter values are based on the grid search results above and some parameter values are determined by heuristics. Some parameter values are chosen after some experimentation, mostly due to significant differences in computation time. \n",
        "\n",
        "For the reward function:\n",
        "- $\\beta=1.0$\n",
        "- $\\eta=1.0$\n",
        "- Complete bonus $B=1$\n",
        "\n",
        "For generating the episodes, we set the episode length limit to be 20,001 as a compromise between allowing the agent to explore more of the network, and to let the agent update and learn from the Q-values earlier.\n",
        "- Episode length limit $T=20,001$\n",
        "\n",
        "For the $ɛ$-greedy policy:\n",
        "- Policy bias $\\tau=0.0001$\n",
        "- $ɛ_\\text{min}=0.01$\n",
        "- $ɛ_\\text{max}=1.0$\n",
        "- Decay rate $\\mu$=0.995\n",
        "\n",
        "For the updates:\n",
        "- Initialise $Q(s,a)=0 \\quad \\forall s,a$\n",
        "- $\\gamma=1.0$\n",
        "- FVMC only: $\\kappa=1.0$ when updating $\\pi(\\cdot)$\n",
        "- SARSA and Q-Learning only: $\\alpha=0.1$ when updating the Q values\n",
        "\n",
        "For the Neural Network models (NFQI and DQL only):\n",
        "- Adam optimiser with default settings as per PyTorch \n",
        "- Learning rate $0.001$\n",
        "- No weight decay (L2 regularisation)\n",
        "- Loss is evaluated using the mean squared error (MSE)\n",
        "\n",
        "DQL only: \n",
        "- Replay memory buffer size $100,000$\n",
        "- Minibatch size $32$ when performing SGD\n",
        "- Updating every $8$ steps\n",
        "- $\\lambda=0.001$ when applying the soft update to the target model \n"
      ]
    },
    {
      "attachments": {},
      "cell_type": "markdown",
      "metadata": {
        "id": "971jiI3cowh6"
      },
      "source": [
        "### 3.5.1 Code"
      ]
    },
    {
      "cell_type": "code",
      "execution_count": null,
      "metadata": {
        "id": "cUDNBXF-Sn-p"
      },
      "outputs": [],
      "source": [
        "beta = 1.0\n",
        "eta = 1.0\n",
        "complete_bonus = 1\n",
        "episode_length_limit = 20001\n",
        "\n",
        "decay_rate = 0.995\n",
        "min_epsilon = 0.01\n",
        "max_epsilon = 1.0\n",
        "tau = 0.0001"
      ]
    },
    {
      "cell_type": "code",
      "execution_count": null,
      "metadata": {
        "id": "Ju0a3BztbSsC"
      },
      "outputs": [],
      "source": [
        "num_visited = dict()\n",
        "reward = dict()\n",
        "steps = dict()"
      ]
    },
    {
      "cell_type": "code",
      "execution_count": null,
      "metadata": {
        "id": "qJiTBYQlDyCx"
      },
      "outputs": [],
      "source": [
        "num_visited[\"fvmc\"] = list()\n",
        "reward[\"fvmc\"] = list()\n",
        "steps[\"fvmc\"] = list()\n",
        "\n",
        "for i in tqdm(range(5), total=5):\n",
        "  env = TubeMap(dist_csv, stations_csv, q_table_initialiser=0, \n",
        "                complete_bonus=complete_bonus, beta=beta, eta=eta)\n",
        "  policy = EpsilonGreedyPolicy(min_epsilon=min_epsilon, max_epsilon=max_epsilon, \n",
        "                              smart_decay=True, strategy=\"pow\")\n",
        "  agent_fvmc = FirstVisitMC(kappa=0.1, gamma=1.0, tau=tau, \n",
        "                            env=env, policy=policy,\n",
        "                            state_progress=True, \n",
        "                            episode_length_limit=episode_length_limit)\n",
        "\n",
        "  agent_fvmc.run(10)\n",
        "  num_visited[\"fvmc\"].append(agent_fvmc.num_visited_per_episode)\n",
        "  reward[\"fvmc\"].append(agent_fvmc.reward_per_episode)\n",
        "  steps[\"fvmc\"].append(agent_fvmc.steps_per_episode)"
      ]
    },
    {
      "cell_type": "code",
      "execution_count": null,
      "metadata": {
        "id": "PxnlJEMbbwFw"
      },
      "outputs": [],
      "source": [
        "num_visited[\"sarsa\"] = list()\n",
        "reward[\"sarsa\"] = list()\n",
        "steps[\"sarsa\"] = list()\n",
        "\n",
        "for i in tqdm(range(5), total=5):\n",
        "  env = TubeMap(dist_csv, stations_csv, q_table_initialiser=0, \n",
        "                complete_bonus=complete_bonus, beta=beta, eta=eta)\n",
        "  policy = EpsilonGreedyPolicy(min_epsilon=min_epsilon, max_epsilon=max_epsilon, \n",
        "                              smart_decay=True, strategy=\"pow\")\n",
        "  agent_sarsa = SARSAAgent(alpha=0.1, gamma=1.0, tau=tau, \n",
        "                            env=env, policy=policy,\n",
        "                            state_progress=True, \n",
        "                            episode_length_limit=episode_length_limit)\n",
        "\n",
        "  agent_sarsa.run(10)\n",
        "  num_visited[\"sarsa\"].append(agent_sarsa.num_visited_per_episode)\n",
        "  reward[\"sarsa\"].append(agent_sarsa.reward_per_episode)\n",
        "  steps[\"sarsa\"].append(agent_sarsa.steps_per_episode)"
      ]
    },
    {
      "cell_type": "code",
      "execution_count": null,
      "metadata": {
        "id": "UKj4uojtcPYg"
      },
      "outputs": [],
      "source": [
        "num_visited[\"q\"] = list()\n",
        "reward[\"q\"] = list()\n",
        "steps[\"q\"] = list()\n",
        "\n",
        "for i in tqdm(range(5), total=5):\n",
        "  env = TubeMap(dist_csv, stations_csv, q_table_initialiser=0, \n",
        "                complete_bonus=complete_bonus, beta=beta, eta=eta)\n",
        "  policy = EpsilonGreedyPolicy(min_epsilon=min_epsilon, max_epsilon=max_epsilon, \n",
        "                              smart_decay=True, strategy=\"pow\")\n",
        "  agent_q = QLearning(alpha=0.1, gamma=1.0, tau=tau, \n",
        "                            env=env, policy=policy,\n",
        "                            state_progress=True, \n",
        "                            episode_length_limit=episode_length_limit)\n",
        "\n",
        "  agent_q.run(10)\n",
        "  num_visited[\"q\"].append(agent_q.num_visited_per_episode)\n",
        "  reward[\"q\"].append(agent_q.reward_per_episode)\n",
        "  steps[\"q\"].append(agent_q.steps_per_episode)"
      ]
    },
    {
      "cell_type": "code",
      "execution_count": null,
      "metadata": {
        "id": "BRPzUj_2ccpc"
      },
      "outputs": [],
      "source": [
        "num_visited[\"nfqi\"] = list()\n",
        "reward[\"nfqi\"] = list()\n",
        "steps[\"nfqi\"] = list()\n",
        "\n",
        "for i in tqdm(range(5), total=5):\n",
        "  env = TubeMap(dist_csv, stations_csv, q_table_initialiser=0, \n",
        "                complete_bonus=complete_bonus, beta=beta, eta=eta)\n",
        "  policy = EpsilonGreedyPolicy(min_epsilon=min_epsilon, max_epsilon=max_epsilon, \n",
        "                              smart_decay=True, strategy=\"pow\")\n",
        "  net = NFQINetwork()\n",
        "  optimizer = optim.Adam(net.parameters())\n",
        "  loss = nn.MSELoss(reduction=\"mean\")\n",
        "  agent_nfqi = NFQI(net=net, optimizer=optimizer, loss=loss,\n",
        "                    gamma=1.0, tau=tau, env=env, policy=policy,\n",
        "                    state_progress=True, \n",
        "                    episode_length_limit=episode_length_limit)\n",
        "\n",
        "  agent_nfqi.run(10)\n",
        "  num_visited[\"nfqi\"].append(agent_nfqi.num_visited_per_episode)\n",
        "  reward[\"nfqi\"].append(agent_nfqi.reward_per_episode)\n",
        "  steps[\"nfqi\"].append(agent_nfqi.steps_per_episode)"
      ]
    },
    {
      "cell_type": "code",
      "execution_count": null,
      "metadata": {
        "id": "5jc_fKEwcQfg"
      },
      "outputs": [],
      "source": [
        "num_visited[\"dql\"] = list()\n",
        "reward[\"dql\"] = list()\n",
        "steps[\"dql\"] = list()\n",
        "\n",
        "for i in tqdm(range(5), total=5):\n",
        "  env = TubeMap(dist_csv, stations_csv, q_table_initialiser=0, \n",
        "                complete_bonus=complete_bonus, beta=beta, eta=eta)\n",
        "  loss = nn.MSELoss(reduction=\"mean\")\n",
        "  dqlnetwork_local = DQLNetwork()\n",
        "  dqlnetwork_target = DQLNetwork()\n",
        "  optimizer = optim.Adam(dqlnetwork_local.parameters())\n",
        "  replay_buffer = ReplayBuffer(buffer_size=int(1e5), batch_size=64)\n",
        "  agent_dql = DQLAgent(dqlnetwork_local, dqlnetwork_target, optimizer, replay_buffer, \n",
        "                        state_progress=True, policy=None, env=env, \n",
        "                        episode_length_limit=episode_length_limit, \n",
        "                        device=torch.device(\"mps\"), update_every=4,\n",
        "                        tau=tau, lambd=0.001, gamma=1.0,\n",
        "                        min_epsilon=min_epsilon, max_epsilon=max_epsilon, decay_rate=decay_rate)\n",
        "\n",
        "  agent_dql.run(10)\n",
        "  num_visited[\"dql\"].append(agent_dql.num_visited_per_episode)\n",
        "  reward[\"dql\"].append(agent_dql.reward_per_episode)\n",
        "  steps[\"dql\"].append(agent_dql.steps_per_episode)"
      ]
    },
    {
      "attachments": {},
      "cell_type": "markdown",
      "metadata": {
        "id": "3EKuQ_RvoWDu"
      },
      "source": [
        "### 3.5.2 Initial Plots and Results"
      ]
    },
    {
      "cell_type": "code",
      "execution_count": null,
      "metadata": {
        "id": "-qsiES1fpIVS"
      },
      "outputs": [],
      "source": [
        "# Load and Combine Dictionaries\n",
        "import os\n",
        "d = {}\n",
        "\n",
        "for file in os.listdir(\"/content/drive/MyDrive/new/pickles\"):\n",
        "  with open(\"/content/drive/MyDrive/new/pickles/\" + file, 'rb') as f:\n",
        "    d[f'{file.split(\".\")[0]}'] = pickle.load(f)"
      ]
    },
    {
      "cell_type": "code",
      "execution_count": null,
      "metadata": {
        "id": "1SzHZ9NlyHjj"
      },
      "outputs": [],
      "source": [
        "d['num_visited']['nfqi'] = d['num_visited_nfqi']['nfqi']\n",
        "d['reward']['nfqi'] = d['reward_nfqi']['nfqi']\n",
        "d['steps']['nfqi'] = d['steps_nfqi']['nfqi']"
      ]
    },
    {
      "cell_type": "code",
      "execution_count": null,
      "metadata": {
        "id": "YWPGvol04OtZ"
      },
      "outputs": [],
      "source": [
        "d['num_visited']['dql'] = d['num_visited_dql_2']['dql'] + d['num_visited_dql_3']\n",
        "d['reward']['dql'] = d['reward_dql_2']['dql'] + d['reward_dql_3']\n",
        "d['steps']['dql'] = d['steps_dql_2']['dql'] + d['steps_dql_3']"
      ]
    },
    {
      "cell_type": "code",
      "execution_count": null,
      "metadata": {
        "id": "1umQs6LEBX4M"
      },
      "outputs": [],
      "source": [
        "def initial_models_plot(dict, ax, models = [\"fvmc\",\"sarsa\", \"q\", \"dql\", \"nfqi\"]):\n",
        "  for model in models:\n",
        "    axs[ax].plot(np.arange(1,11), np.mean(dict[model], axis=0), label=model)\n",
        "\n",
        "  ylabels = ['Average Number of Stations Visited', 'Symlog (Average Reward)', 'Average Steps']\n",
        "  axs[ax].set_ylabel(ylabels[ax])\n",
        "  axs[ax].set_xticks(np.arange(1,11))\n",
        "  axs[ax].set_xlim(1, 10)\n",
        "\n",
        "  if ax==1:\n",
        "    axs[ax].set_ylim(-5e8, -5e5)\n",
        "    axs[ax].set_yscale(\"symlog\")\n",
        "\n",
        "  if ax==2:\n",
        "    axs[ax].legend(bbox_to_anchor=(1.2, 1.5), loc='right')"
      ]
    },
    {
      "cell_type": "code",
      "execution_count": null,
      "metadata": {
        "colab": {
          "base_uri": "https://localhost:8080/",
          "height": 812
        },
        "id": "n2vsnBGtoWkt",
        "outputId": "2f54b65e-4270-491e-8480-6134ddfb12d9"
      },
      "outputs": [
        {
          "data": {
            "image/png": "[encoded data removed]",
            "text/plain": [
              "<Figure size 800x800 with 3 Axes>"
            ]
          },
          "metadata": {},
          "output_type": "display_data"
        }
      ],
      "source": [
        "fig, axs = plt.subplots(nrows=3, ncols=1, figsize=(8,8), sharex=True)\n",
        "\n",
        "initial_models_plot(d['num_visited'], 0)\n",
        "initial_models_plot(d['reward'], 1)\n",
        "initial_models_plot(d['steps'], 2)\n",
        "fig.supxlabel(\"Episodes\")\n",
        "plt.suptitle(\"Average Results Over 5 Runs\");"
      ]
    },
    {
      "attachments": {},
      "cell_type": "markdown",
      "metadata": {
        "id": "sTMtPkTRGptP"
      },
      "source": [
        "The first graph plots average number of stations visited (explored) within 20,000 steps against episode number. The episode is considered a success if the agent visits all 272 stations within the 20,000-step limit and will receive a completion bonus; otherwise, the episode is forcibly terminated. We observe that SARSA, NFQI and DQL agents all successfully travelled to all 272 stations within 20,000 steps, while the FVMC and Q-learning agents performed much worse, with a decreasing number of stations visited as episode number progressed.\n",
        "\n",
        "The second graph plots the average reward against episode number. The y-axis is plotted on a symmetric log scale (`symlog`). Since each step the agent receives a negative reward (except for the completion bonus), the closer to zero the better the performance of the agent. We observe that SARSA performed the best, followed by NFQI and DQL which performed similarly, and FVMC and Q-learning agents again performed significantly worse.\n",
        "\n",
        "The third graph plots the average number of steps taken in an episode against episode number. The episode is terminated after 20,000 steps. We observe that after the first episode for Q-learning, and the first two episodes for FVMC, the agent has failed to visit all 272 stations and thus the average number of steps is 20,000. The NFQI and DQL agents performed similarly, and the average number of steps remained between 10,000 and 15,000 steps for the first 10 episodes. Finally, the SARSA agent performed the best with a decreasing number of steps required to visit all 272 stations as episode number progressed.\n",
        "\n",
        "The time taken to run 10 episodes was also significantly different for each of the models. SARSA was the fastest, taking just 2 minutes to run 10 episodes, followed by NFQI taking approximately 5 minutes to run 10 episodes. The FVMC and Q-learning algorithms took longer, at about 10 minutes to run 10 episodes. Finally, the DQL algorithm was the most time consuming, taking more than 30 minutes to run 10 episodes."
      ]
    },
    {
      "attachments": {},
      "cell_type": "markdown",
      "metadata": {
        "id": "9IM_Qq-gDyjq"
      },
      "source": [
        "## 3.6 Training for SARSA and Deep Q-Learning\n",
        "\n",
        "Based on the preliminary results observed in the previous section, we select two agents: SARSA and DQL, for further analysis. \n",
        "\n",
        "We train these two agents for 100 episodes to determine their performance in the longer term.\n",
        "\n"
      ]
    },
    {
      "attachments": {},
      "cell_type": "markdown",
      "metadata": {
        "id": "mWKxAGvHbjyy"
      },
      "source": [
        "### 3.6.1 SARSA"
      ]
    },
    {
      "attachments": {},
      "cell_type": "markdown",
      "metadata": {
        "id": "T33xw7PhbvcB"
      },
      "source": [
        "#### 3.6.1.1 Hyperparameter Tuning"
      ]
    },
    {
      "attachments": {},
      "cell_type": "markdown",
      "metadata": {
        "id": "MA-hrZPlkjhl"
      },
      "source": [
        "To train a better model with SARSA, we ran further trials on learning rate $\\alpha$ and epsilon decay rate $\\mu$, as we thought these two parameters may have a larger influence on model performance. A learning rate that is too high would lead to the model not converging; while a learning rate that is too low would take too long to converge to an optimal solution. Similarly, we thought that an epsilon decay rate that is too low (epsilon would decrease very quickly) would lead to too little exploration and thus mean we cannot find an optimal solution, where one that is too high would also lead to too much exploration and thus non-convergence. "
      ]
    },
    {
      "attachments": {},
      "cell_type": "markdown",
      "metadata": {
        "id": "WuTlwJKdfZGf"
      },
      "source": [
        "##### Tuning for alpha\n",
        "\n",
        "We trialled 5 settings for alpha and present the results with these settings as follows. Each setting was trialled to 50 episodes to balance between the time demanded for running the code and also the usefulness of the obtained results to training our final model (which we hope to run for more episodes). We plot the moving average of results over episodes due to the high degree of fluctuation observed over individual episodes. "
      ]
    },
    {
      "cell_type": "code",
      "execution_count": null,
      "metadata": {
        "id": "Wuuu-9r1e0Tw"
      },
      "outputs": [],
      "source": [
        "results = []\n",
        "alphas = [0.1, 0.01, 0.001, 0.0001, 0.00001]\n",
        "gamma = 1.0\n",
        "\n",
        "for alpha in alphas:\n",
        "    \n",
        "    env = TubeMap(dist_csv, stations_csv, q_table_initialiser=0, \n",
        "                complete_bonus=complete_bonus, beta=beta, eta=eta)\n",
        "    \n",
        "    policy = EpsilonGreedyPolicy(min_epsilon=min_epsilon, max_epsilon=max_epsilon, \n",
        "                              smart_decay=True, strategy=\"pow\")\n",
        "    \n",
        "    agent_sarsa = SARSAAgent(alpha=alpha, gamma=gamma, tau=tau, \n",
        "                            env=env, policy=policy,\n",
        "                            state_progress=True, \n",
        "                            episode_length_limit=episode_length_limit)\n",
        "    \n",
        "    agent_sarsa.run(50)\n",
        "    \n",
        "    clear_output(wait=True)\n",
        "    print(datetime.now())\n",
        "    \n",
        "    results.append([alpha, agent_sarsa.num_visited_per_episode, agent_sarsa.reward_per_episode, agent_sarsa.steps_per_episode])\n"
      ]
    },
    {
      "cell_type": "code",
      "execution_count": null,
      "metadata": {
        "id": "9l1S__-pgCuz"
      },
      "outputs": [],
      "source": [
        "# Plot\n",
        "for i in range(5):\n",
        "    series = pd.Series(results[i][3].copy())\n",
        "    rolling_mean = series.rolling(window=10).mean()\n",
        "    plt.plot(rolling_mean, label=f'$\\\\alpha=${alphas[i]}')\n",
        "\n",
        "plt.xlabel('Episodes')\n",
        "plt.ylabel('Steps Moving Average 10')\n",
        "plt.title('SARSA Steps over episodes with different $\\\\alpha$ values')\n",
        "plt.legend(bbox_to_anchor=(1.3, 0.5), loc='right')\n",
        "plt.show()"
      ]
    },
    {
      "attachments": {},
      "cell_type": "markdown",
      "metadata": {
        "id": "fR61alofhhhi"
      },
      "source": [
        "![images/sarsa_alpha.png](images/sarsa_alpha.png)\n",
        "\n",
        "From the graph, although $\\alpha = 0.1$ overall yields the lowest moving average of steps across most episodes, $\\alpha = 0.01$ shows the most learning and progress over episodes and indicates convergence may be happening. Thus, it seems more likely that $\\alpha = 0.01$ would be more appropriate for training an agent over more episodes. We thus treat this rate as fix while tuning for epsilon decay rate.\n"
      ]
    },
    {
      "attachments": {},
      "cell_type": "markdown",
      "metadata": {
        "id": "YtY8NQgAfsUa"
      },
      "source": [
        "##### Tuning for epsilon decay rate"
      ]
    },
    {
      "cell_type": "code",
      "execution_count": null,
      "metadata": {
        "id": "U3WAogBTf5iW"
      },
      "outputs": [],
      "source": [
        "results_e = []\n",
        "alpha = 0.01\n",
        "decay_rates = [0.995, 0.999, 0.9995, 0.9999, 0.99995, 0.99999, 0.999995, 0.999999, 0.9999995]\n",
        "gamma = 1.0\n",
        "\n",
        "for decay_rate in decay_rates:\n",
        "    print(decay_rate)\n",
        "    env = TubeMap(dist_csv, stations_csv, q_table_initialiser=0, \n",
        "                complete_bonus=complete_bonus, beta=beta, eta=eta)\n",
        "    \n",
        "    policy = EpsilonGreedyPolicy(min_epsilon=min_epsilon, max_epsilon=max_epsilon, decay_rate=decay_rate,\n",
        "                              smart_decay=True, strategy=\"pow\")\n",
        "    \n",
        "    agent_sarsa = SARSAAgent(alpha=alpha, gamma=gamma, tau=tau, \n",
        "                            env=env, policy=policy,\n",
        "                            state_progress=True, \n",
        "                            episode_length_limit=episode_length_limit)\n",
        "    \n",
        "    agent_sarsa.run(50)\n",
        "    \n",
        "    clear_output(wait=True)\n",
        "    print(f'Time: datetime.now(). decay_rate = {decay_rate} done.')\n",
        "    \n",
        "    results_e.append([decay_rate, agent_sarsa.num_visited_per_episode, agent_sarsa.reward_per_episode, agent_sarsa.steps_per_episode])"
      ]
    },
    {
      "cell_type": "code",
      "execution_count": null,
      "metadata": {
        "id": "f7E__PR1jd7n"
      },
      "outputs": [],
      "source": [
        "# Plot\n",
        "decay_rates = [0.995, 0.999, 0.9995, 0.9999, 0.99995, 0.99999, 0.999995, 0.999999, 0.9999995]\n",
        "\n",
        "for i in range(9):\n",
        "    series = pd.Series(results_e[i][3].copy())\n",
        "    rolling_mean = series.rolling(window=20).mean()\n",
        "    plt.plot(rolling_mean, label=f'$\\\\mu$ = {decay_rates[i]}')\n",
        "\n",
        "plt.xlabel('Episodes')\n",
        "plt.ylabel('Steps Moving Average 10')\n",
        "plt.title('SARSA Steps over episodes with different $\\\\mu$ values')\n",
        "plt.legend(bbox_to_anchor=(1.4, 0.5), loc='right')\n",
        "plt.show()"
      ]
    },
    {
      "attachments": {},
      "cell_type": "markdown",
      "metadata": {
        "id": "VvbER5xVjsZP"
      },
      "source": [
        "![images/sarsa_mu.png](images/sarsa_mu.png)\n",
        "\n",
        "From the graph, we observe that $\\mu = 0.999995$ shows the sharpest decrease in (moving average of) steps over episodes, thus indicating better convergence. "
      ]
    },
    {
      "attachments": {},
      "cell_type": "markdown",
      "metadata": {
        "id": "feusz4p6b1qb"
      },
      "source": [
        "#### 3.6.1.2 Model at 100 episodes"
      ]
    },
    {
      "cell_type": "code",
      "execution_count": null,
      "metadata": {
        "id": "bGrwzXkre0k-"
      },
      "outputs": [],
      "source": [
        "alpha = 0.01\n",
        "decay_rate = 0.999995\n",
        "gamma = 1.0\n",
        "\n",
        "env = TubeMap(dist_csv, stations_csv, q_table_initialiser=0, \n",
        "                complete_bonus=complete_bonus, beta=beta, eta=eta)\n",
        "    \n",
        "policy = EpsilonGreedyPolicy(min_epsilon=min_epsilon, max_epsilon=max_epsilon, decay_rate=decay_rate, \n",
        "                          smart_decay=True, strategy=\"pow\")\n",
        "\n",
        "agent_sarsa = SARSAAgent(alpha=alpha, gamma=gamma, tau=tau, \n",
        "                        env=env, policy=policy,\n",
        "                        state_progress=True, \n",
        "                        episode_length_limit=episode_length_limit)\n",
        "\n",
        "agent_sarsa.run(100)"
      ]
    },
    {
      "attachments": {},
      "cell_type": "markdown",
      "metadata": {
        "id": "vaH98jilb9GR"
      },
      "source": [
        "#### 3.6.1.3 Model at 500 episodes\n",
        "\n",
        "As SARSA is relatively quick to run, we decide to see if the performance of the model can be further improved with more runs, and ran the agent for 400 more episodes till 500 episodes in total."
      ]
    },
    {
      "cell_type": "code",
      "execution_count": null,
      "metadata": {
        "id": "HRV99yV-e06a"
      },
      "outputs": [],
      "source": [
        "agent_sarsa.run(400)"
      ]
    },
    {
      "attachments": {},
      "cell_type": "markdown",
      "metadata": {
        "id": "MMdcEZ53b_kB"
      },
      "source": [
        "### 3.6.2 Deep Q-Learning"
      ]
    },
    {
      "attachments": {},
      "cell_type": "markdown",
      "metadata": {
        "id": "o2zEzgd4cGUT"
      },
      "source": [
        "#### 3.6.2.1 Hyperparameter Tuning\n",
        "\n",
        "Since training the DQL model is very time consuming, taking more than 30 minutes to run just 10 episodes, trialling multiple hyperparameters across high number of episodes in a systematic way for the best values for hyperparameters is not very practical. Instead, a more heuristic approach was used to determine the appropriate values for the hyperparameters. Several combinations of minibatch size when performing the SGD update and the update frequency was tried. We note that performing updates more frequently and using a larger minibatch size both lead to longer running time, with no significant improvements (or changes) to the results. The hyperparameters used for the DQL model is the same as the ones mentioned for the initial results."
      ]
    },
    {
      "attachments": {},
      "cell_type": "markdown",
      "metadata": {
        "id": "nDFoYwOycCa3"
      },
      "source": [
        "#### 3.6.2.2 Model at 100 episodes"
      ]
    },
    {
      "cell_type": "code",
      "execution_count": null,
      "metadata": {
        "id": "PwHu5zhBbGWr"
      },
      "outputs": [],
      "source": [
        "num_visited[\"dql_long\"] = list()\n",
        "reward[\"dql_long\"] = list()\n",
        "steps[\"dql_long\"] = list()\n",
        "\n",
        "env = TubeMap(dist_csv, stations_csv, q_table_initialiser=0, \n",
        "                complete_bonus=complete_bonus, beta=beta, eta=eta)\n",
        "loss = nn.MSELoss(reduction=\"mean\")\n",
        "dqlnetwork_local = DQLNetwork()\n",
        "dqlnetwork_target = DQLNetwork()\n",
        "optimizer = optim.Adam(dqlnetwork_local.parameters())\n",
        "replay_buffer = ReplayBuffer(buffer_size=int(1e5), batch_size=32)\n",
        "agent_dql_long = DQLAgent(dqlnetwork_local, dqlnetwork_target, optimizer, replay_buffer, \n",
        "                        state_progress=True, policy=None, env=env, \n",
        "                        episode_length_limit=episode_length_limit, \n",
        "                        device=torch.device(\"mps\"), update_every=8,\n",
        "                        tau=tau, lambd=0.001, gamma=1.0,\n",
        "                        min_epsilon=min_epsilon, max_epsilon=max_epsilon, decay_rate=decay_rate)\n",
        "\n",
        "agent_dql_long.run(100)\n",
        "num_visited[\"dql_long\"].append(agent_dql_long.num_visited_per_episode)\n",
        "reward[\"dql_long\"].append(agent_dql_long.reward_per_episode)\n",
        "steps[\"dql_long\"].append(agent_dql_long.steps_per_episode)"
      ]
    },
    {
      "attachments": {},
      "cell_type": "markdown",
      "metadata": {
        "id": "L7zPlXrqD5zr"
      },
      "source": [
        "# 4.&nbsp;Final Results and Discussion"
      ]
    },
    {
      "attachments": {},
      "cell_type": "markdown",
      "metadata": {
        "id": "q3CFSLVOpzZ_"
      },
      "source": [
        "## 4.1 Comparing SARSA and Deep Q-Learning at 100 Episodes\n",
        "\n",
        "The figures below compares the performance of SARSA and Deep Q-Learning at 100 episodes for moving average of number of steps and reward over the episodes. "
      ]
    },
    {
      "cell_type": "code",
      "execution_count": null,
      "metadata": {
        "colab": {
          "base_uri": "https://localhost:8080/",
          "height": 812
        },
        "id": "bxwZA2MGXk5S",
        "outputId": "0b44c470-89e6-457d-ec77-89564a32ec16"
      },
      "outputs": [
        {
          "data": {
            "image/png": "[encoded data removed]",
            "text/plain": [
              "<Figure size 800x800 with 2 Axes>"
            ]
          },
          "metadata": {},
          "output_type": "display_data"
        }
      ],
      "source": [
        "fig, axs = plt.subplots(nrows=2, ncols=1, figsize=(8,8), sharex=True)\n",
        "\n",
        "# Steps Moving Average\n",
        "window = 10\n",
        "series = pd.Series(agent_sarsa.steps_per_episode.copy())\n",
        "rolling_mean = series.rolling(window=window).mean()\n",
        "axs[0].plot(np.arange(1,101), rolling_mean, label='sarsa', color='tab:red')\n",
        "\n",
        "series = pd.Series(agent_dql_long.steps_per_episode.copy())\n",
        "rolling_mean = series.rolling(window=window).mean()\n",
        "axs[0].plot(np.arange(1,101), rolling_mean, label='dql', color='tab:orange')\n",
        "\n",
        "axs[0].set_ylabel(f'Steps Moving Average {window}')\n",
        "axs[0].set_xticks(np.arange(0,101,10))\n",
        "\n",
        "\n",
        "# Reward Moving Average\n",
        "series = pd.Series(agent_sarsa.reward_per_episode.copy())\n",
        "rolling_mean = series.rolling(window=window).mean()\n",
        "axs[1].plot(np.arange(1, 101), rolling_mean, label='sarsa', color='tab:orange')\n",
        "\n",
        "series = pd.Series(agent_dql_long.reward_per_episode.copy())\n",
        "rolling_mean = series.rolling(window=window).mean()\n",
        "axs[1].plot(np.arange(1,101), rolling_mean, label='dql', color='tab:red')\n",
        "\n",
        "axs[1].set_ylabel(f'Reward Moving Average {window}')\n",
        "axs[1].legend(bbox_to_anchor=(1.2, 1.5), loc='right')\n",
        "\n",
        "fig.supxlabel(\"Episodes\")\n",
        "plt.suptitle(f\"Moving Average {window} Results over 100 episodes\");"
      ]
    },
    {
      "attachments": {},
      "cell_type": "markdown",
      "metadata": {
        "id": "C1vlnEDsqLHa"
      },
      "source": [
        "## 4.2 SARSA at 500 Episodes"
      ]
    },
    {
      "cell_type": "code",
      "execution_count": null,
      "metadata": {
        "id": "yNyJRCVerXOT"
      },
      "outputs": [],
      "source": [
        "with open('/content/drive/MyDrive/new/pickles/agent_sarsa_2257.pkl', 'rb') as f:\n",
        "    agent_sarsa_500 = pickle.load(f)"
      ]
    },
    {
      "cell_type": "code",
      "execution_count": null,
      "metadata": {
        "colab": {
          "base_uri": "https://localhost:8080/",
          "height": 472
        },
        "id": "Shm5sahJrfx_",
        "outputId": "5a9fd03b-516a-4b0a-ef4a-96295f5e9a44"
      },
      "outputs": [
        {
          "data": {
            "image/png": "[encoded data removed]",
            "text/plain": [
              "<Figure size 640x480 with 1 Axes>"
            ]
          },
          "metadata": {},
          "output_type": "display_data"
        }
      ],
      "source": [
        "%matplotlib inline\n",
        "window=20\n",
        "\n",
        "series = pd.Series(agent_sarsa_500.steps_per_episode.copy())\n",
        "rolling_mean = series.rolling(window=window).mean()\n",
        "plt.plot(rolling_mean, label=f'Steps Moving Average {window}')\n",
        "\n",
        "plt.xlabel('Episodes')\n",
        "plt.ylabel(f'Steps Moving Average {window}')\n",
        "plt.title(f'SARSA Moving Average {window} Steps over 500 episodes')\n",
        "plt.show()"
      ]
    },
    {
      "attachments": {},
      "cell_type": "markdown",
      "metadata": {
        "id": "3e6-uj0xqNid"
      },
      "source": [
        "## 4.3 Visualising Final Route"
      ]
    },
    {
      "attachments": {},
      "cell_type": "markdown",
      "metadata": {
        "id": "jXmPZdFkEP1F"
      },
      "source": [
        "### 4.3.1 Tube Route Animation Function\n",
        "\n",
        "We wrote a function which animates the route on a streamlined version of the Tube Map to help us visualise the final route. "
      ]
    },
    {
      "cell_type": "code",
      "execution_count": 120,
      "metadata": {
        "id": "hIRghlPSCbSz"
      },
      "outputs": [],
      "source": [
        "def plot_tube_route(stations_list, station_csv, time = 250):\n",
        "    # Getting corresponding coordinates from stations list\n",
        "    stations = pd.read_csv(station_csv)\n",
        "    stations_list = [np.trunc(x) for x in stations_list if x != 0.0]\n",
        "    stations_merged = pd.merge(pd.DataFrame({'id': stations_list}), stations, on='id', how='left')\n",
        "    x_coords = list(stations_merged['map x'])\n",
        "    y_coords = list(stations_merged['map y'])\n",
        "    station_names = list(stations_merged['station'])\n",
        "\n",
        "    # Initialize Figure\n",
        "    fig = plt.figure(figsize=(10,7))\n",
        "    ax = plt.axes()\n",
        "\n",
        "    # Initialize Line and Scatters\n",
        "    line, = ax.plot([], [], lw=2)\n",
        "    sc2 = ax.scatter(stations['map x'], stations['map y'], c='#DCDCDC', s=10) # all stations\n",
        "    sc = ax.scatter([], [], s=10) # visited stations\n",
        "    sc1 = ax.scatter([], [], c='r', s=10) # current station\n",
        "    \n",
        "    # Initialize Text\n",
        "    station_text = ax.text(0.02, 0.95, '')\n",
        "    legend_text = ax.text(1, 0.5, 'Visited Stations: 0/272')\n",
        "\n",
        "    def init():\n",
        "        ax.set_xlim(0.5, 10)\n",
        "        ax.set_ylim(7, 0)\n",
        "        return line,\n",
        "\n",
        "    def update(frame):\n",
        "        # line\n",
        "        x = x_coords[:frame+1]\n",
        "        y = y_coords[:frame+1]\n",
        "        line.set_data(x, y)\n",
        "        \n",
        "        # scatter\n",
        "        sc.set_offsets(np.column_stack((x, y)))\n",
        "        sc.set_sizes([20]*len(x))\n",
        "        \n",
        "        sc1.set_offsets([[x[-1], y[-1]]])\n",
        "        sc1.set_sizes([20])\n",
        "\n",
        "        # text fir station name\n",
        "        station_text.set_text(station_names[frame])\n",
        "        station_text.set_position((x[-1]+0.25, y[-1]))\n",
        "        \n",
        "        legend_text.set_text(f'Visited Stations:{len(set(stations_list[:frame+1]))}/272')\n",
        "        \n",
        "        return line, station_text, sc, sc1,\n",
        "\n",
        "    ani = FuncAnimation(fig, update, frames=len(x_coords), interval=time, init_func=init, blit=True)\n",
        "    \n",
        "    return ani"
      ]
    },
    {
      "attachments": {},
      "cell_type": "markdown",
      "metadata": {
        "id": "as_buqnhyDRh"
      },
      "source": [
        "### 4.3.2 Visualisations"
      ]
    },
    {
      "cell_type": "code",
      "execution_count": null,
      "metadata": {
        "id": "lkCUJaT2yOMb"
      },
      "outputs": [],
      "source": [
        "# Save Animation as mp4 using FFMpeg\n",
        "anim = plot_tube_route(agent_dql_long.state_history, \"dataset/new/stations3.csv\")\n",
        "FFwriter = FFMpegWriter()\n",
        "anim.save(\"animations/dql_route.mp4\", writer=FFwriter)"
      ]
    },
    {
      "cell_type": "code",
      "execution_count": null,
      "metadata": {
        "id": "UlPEPr62yYpY"
      },
      "outputs": [],
      "source": [
        "anim = plot_tube_route(agent_sarsa.state_history, \"dataset/new/stations3.csv\")\n",
        "FFwriter = FFMpegWriter()\n",
        "anim.save(\"animations/sarsa_route.mp4\", writer=FFwriter)"
      ]
    },
    {
      "cell_type": "code",
      "execution_count": 124,
      "metadata": {
        "id": "_KG8WYDaya0e"
      },
      "outputs": [
        {
          "data": {
            "text/html": [
              "<video src=\"dql_route.mp4\" controls  width=\"1000\" >\n",
              "      Your browser does not support the <code>video</code> element.\n",
              "    </video>"
            ],
            "text/plain": [
              "<IPython.core.display.Video object>"
            ]
          },
          "execution_count": 124,
          "metadata": {},
          "output_type": "execute_result"
        }
      ],
      "source": [
        "# Load Animation from saved mp4 file\n",
        "Video(\"animations/dql_route.mp4\", width=1000)"
      ]
    },
    {
      "cell_type": "code",
      "execution_count": 125,
      "metadata": {
        "id": "36J5Hr7fyfH5"
      },
      "outputs": [
        {
          "data": {
            "text/html": [
              "<video src=\"sarsa_route.mp4\" controls  width=\"1000\" >\n",
              "      Your browser does not support the <code>video</code> element.\n",
              "    </video>"
            ],
            "text/plain": [
              "<IPython.core.display.Video object>"
            ]
          },
          "execution_count": 125,
          "metadata": {},
          "output_type": "execute_result"
        }
      ],
      "source": [
        "Video(\"animations/sarsa_route.mp4\", width=1000)"
      ]
    },
    {
      "attachments": {},
      "cell_type": "markdown",
      "metadata": {},
      "source": [
        "Finally, we also show below an actual route that is taken for the \"Tube Challenge\"."
      ]
    },
    {
      "cell_type": "code",
      "execution_count": 129,
      "metadata": {},
      "outputs": [],
      "source": [
        "knownroute_pd = pd.read_csv(\"dataset/new/knownroute.csv\")\n",
        "knownroute = [0.] + knownroute_pd[\"id2\"].to_list()"
      ]
    },
    {
      "cell_type": "code",
      "execution_count": null,
      "metadata": {},
      "outputs": [],
      "source": [
        "anim = plot_tube_route(knownroute, \"dataset/new/stations3.csv\")\n",
        "FFwriter = FFMpegWriter()\n",
        "anim.save(\"animations/knownroute_route.mp4\", writer=FFwriter)"
      ]
    },
    {
      "cell_type": "code",
      "execution_count": 133,
      "metadata": {},
      "outputs": [
        {
          "data": {
            "text/html": [
              "<video src=\"animations/knownroute_route.mp4\" controls  width=\"1000\" >\n",
              "      Your browser does not support the <code>video</code> element.\n",
              "    </video>"
            ],
            "text/plain": [
              "<IPython.core.display.Video object>"
            ]
          },
          "execution_count": 133,
          "metadata": {},
          "output_type": "execute_result"
        }
      ],
      "source": [
        "Video(\"animations/knownroute_route.mp4\", width=1000)"
      ]
    },
    {
      "attachments": {},
      "cell_type": "markdown",
      "metadata": {
        "id": "GsrV3D76Al2V"
      },
      "source": [
        "# 5.&nbsp;Conclusion"
      ]
    },
    {
      "attachments": {},
      "cell_type": "markdown",
      "metadata": {
        "id": "fSi328IL3vGh"
      },
      "source": [
        "Overall, we found that SARSA performed the best by far both in terms of the number of steps taken for the optimal route and also computation time required. We designed a reward function with numerous components that aims to encourage the agent to travel to all stations with the least number of steps. We trialled various weighting of the components as hyperparameters to find a decently good combination, and compared 5 models preliminarily across 10 episodes, using heuristics to determine model-specific hyperparameters to use. With the results for SARSA and Q-learning being the most promising, we trained two models SARSA and Deep Q-Learning further by tuning their hyperparameters and running them for more episodes - 100 for Deep Q-Learning and 500 for SARSA. Comparing the two models at the 100th episode reveals SARSA performs better than Deep-Q learning. We further ran SARSA for 400 more episodes to a total of 500 episodes, but unfortunately found that there were no significant further improvements to the model. \n",
        "\n",
        "The best plotted route was SARSA at 1999 steps, and the lowest number of steps in an episode for SARSA was at 1647 steps. Though this is a reasonably good result considering the complexity of the problem, it is still considerably more than the steps for a route taken by a previous Tube challenger that we found 433 steps, and likely still more steps than a route that a human can design by simply looking at the graph. We note that the original problem we intended to solve is to minimise the time taken to travel to all stations. However, the time taken is intrinsically related to the number of steps taken, as taking fewer steps will necessitate a shorter total travel time to all 272 stations.\n",
        "\n",
        "Our results highlight the importance of reward design especially for TSP type problems, as the absence of a definitive end state means that one cannot simply add an extremely high reward to the end state. A more careful design and trial of the reward function may improve performance of our models and better lead to convergence. More complex models such as REINFORCE may also yield improvements, though it may come at the cost of higher running times and computation costs. "
      ]
    },
    {
      "attachments": {},
      "cell_type": "markdown",
      "metadata": {
        "id": "8EH4F26tAnbA"
      },
      "source": [
        "# 6.&nbsp;References"
      ]
    },
    {
      "attachments": {},
      "cell_type": "markdown",
      "metadata": {
        "id": "KkUsVtlFm3O_"
      },
      "source": [
        "Gawley, M. (2011). Network Simplification. www.TheTubeChallenge.com. https://sites.google.com/site/mytubechallenge/projectplan/primarydatagathering/2-network-simplification \n",
        "\n",
        "Gambardella, L. M., & Dorigo, M. (1995). Ant-Q: A reinforcement learning approach to the traveling salesman problem. In Machine learning proceedings 1995 (pp. 252-260). Morgan Kaufmann.\n",
        "\n",
        "Greco, N. (2017). Tubemaps. GitHub repository, https://github.com/nicola/tubemaps/tree/master\n",
        "\n",
        "Guiness World Records (2016). Fastest time to travel to all London Underground stations. Guiness World Records. https://web.archive.org/web/20160304083335/http://www.guinnessworldrecords.com/world-records/fastest-time-to-travel-to-all-london-underground-stations/\n",
        "\n",
        "Ottoni, A. L., Nepomuceno, E. G., Oliveira, M. S. D., & Oliveira, D. C. D. (2022). Reinforcement learning for the traveling salesman problem with refueling. Complex & Intelligent Systems, 8(3), 2001-2015.\n",
        "\n",
        "O'Brien O. and Cheshire, J. Tube Challenge! https://mappinglondon.co.uk/2014/tube-challenge/\n",
        "\n",
        "The Telegraph (2016). How to do the Tube Challenge. The Telegraph. https://www.telegraph.co.uk/travel/news/How-to-do-the-Tube-Challenge/ \n",
        "\n",
        "Transport for London. Working Timetables (WTT). https://tfl.gov.uk/corporate/publications-and-reports/working-timetables\n",
        "\n",
        "Zheng, J., He, K., Zhou, J., Jin, Y., & Li, C.-M. (2021). Combining Reinforcement Learning with Lin-Kernighan-Helsgaun Algorithm for the Traveling Salesman Problem. Proceedings of the AAAI Conference on Artificial Intelligence, 35(14), 12445-12452. https://doi.org/10.1609/aaai.v35i14.17476\n",
        "\n"
      ]
    }
  ],
  "metadata": {
    "colab": {
      "collapsed_sections": [
        "WLodW80eBPPT",
        "uXsXV1j5BYES"
      ],
      "gpuType": "T4",
      "provenance": [],
      "toc_visible": true
    },
    "gpuClass": "standard",
    "kernelspec": {
      "display_name": "Python 3",
      "name": "python3"
    },
    "language_info": {
      "name": "python"
    }
  },
  "nbformat": 4,
  "nbformat_minor": 0
}
